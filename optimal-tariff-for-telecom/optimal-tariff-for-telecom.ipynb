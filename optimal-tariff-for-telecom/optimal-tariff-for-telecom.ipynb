{
 "cells": [
  {
   "cell_type": "markdown",
   "metadata": {},
   "source": [
    "# Определение перспективного тарифа для телеком-компании"
   ]
  },
  {
   "cell_type": "markdown",
   "metadata": {},
   "source": [
    "<div style=\"text-align: right\"> Работа Юлии Халеевой </div>"
   ]
  },
  {
   "cell_type": "markdown",
   "metadata": {},
   "source": [
    "## Описание проекта\n",
    "\n",
    "Оператор сотовой связи предлагает клиентам два тарифных плана: Смарт и Ультра. Мы планируем изучить данные, содержащие информацию о том, какими тарифами и с какой интенсивностью пользуются 500 ее пользователей, и сделать выводы о том, какой из тарифов приносит компании бОльшую месячную выручку в расчете на одного клиента.\n",
    "\n",
    "Тариф Смарт\n",
    "Ежемесячная плата: 550 рублей\n",
    "Включено 500 минут разговора, 50 сообщений и 15 Гб интернет-трафика\n",
    "Стоимость услуг сверх тарифного пакета: 1. минута разговора: 3 рубля («Мегалайн» всегда округляет вверх значения минут и мегабайтов. Если пользователь проговорил всего 1 секунду, в тарифе засчитывается целая минута); 2. сообщение: 3 рубля; 3. 1 Гб интернет-трафика: 200 рублей.\n",
    "\n",
    "Тариф Ультра\n",
    "Ежемесячная плата: 1950 рублей\n",
    "Включено 3000 минут разговора, 1000 сообщений и 30 Гб интернет-трафика\n",
    "Стоимость услуг сверх тарифного пакета: 1. минута разговора: 1 рубль; 2. сообщение: 1 рубль; 3. 1 Гб интернет-трафика: 150 рублей.\n",
    "\n",
    "Примечание:\n",
    "Сотовый оператор всегда округляет секунды до минут, а мегабайты — до гигабайт. Каждый звонок округляется отдельно: даже если он длился всего 1 секунду, будет засчитан как 1 минута.\n",
    "Для веб-трафика отдельные сессии не считаются. Вместо этого общая сумма за месяц округляется в бо́льшую сторону. Если абонент использует 1025 мегабайт в этом месяце, с него возьмут плату за 2 гигабайта."
   ]
  },
  {
   "cell_type": "markdown",
   "metadata": {},
   "source": [
    "## Загрузка данных, изучение общей информации"
   ]
  },
  {
   "cell_type": "code",
   "execution_count": 1,
   "metadata": {},
   "outputs": [
    {
     "name": "stdout",
     "output_type": "stream",
     "text": [
      "/bin/bash: pip: command not found\r\n"
     ]
    }
   ],
   "source": [
    "!pip install seaborn"
   ]
  },
  {
   "cell_type": "code",
   "execution_count": 2,
   "metadata": {},
   "outputs": [],
   "source": [
    "import pandas as pd\n",
    "import numpy as np\n",
    "import matplotlib.pyplot as plt\n",
    "import seaborn as sns\n",
    "from scipy import stats as st\n",
    "pd.options.display.float_format = \"{:,.2f}\".format"
   ]
  },
  {
   "cell_type": "code",
   "execution_count": 3,
   "metadata": {},
   "outputs": [],
   "source": [
    "#Для работы в тренажере\n",
    "try:\n",
    "    df_calls = pd.read_csv('/datasets/calls.csv', sep=',', index_col='user_id')\n",
    "    df_internet = pd.read_csv('/datasets/internet.csv', sep=',', index_col='user_id')\n",
    "    df_messages = pd.read_csv('/datasets/messages.csv', sep=',', index_col='user_id')\n",
    "    df_tariffs = pd.read_csv('/datasets/tariffs.csv', sep=',', index_col='tariff_name')\n",
    "    df_users = pd.read_csv('/datasets/users.csv', sep=',', index_col='user_id')\n",
    "\n",
    "#Для работы локально\n",
    "except:\n",
    "    df_calls = pd.read_csv('calls.csv', sep=',', index_col='user_id')\n",
    "    df_internet = pd.read_csv('internet.csv', sep=',', index_col='user_id')\n",
    "    df_messages = pd.read_csv('messages.csv', sep=',', index_col='user_id')\n",
    "    df_tariffs = pd.read_csv('tariffs.csv', sep=',', index_col='tariff_name')\n",
    "    df_users = pd.read_csv('users.csv', sep=',', index_col='user_id')\n"
   ]
  },
  {
   "cell_type": "markdown",
   "metadata": {},
   "source": [
    "Посмотрим на общую информацию (воспользуемся циклом)."
   ]
  },
  {
   "cell_type": "code",
   "execution_count": 4,
   "metadata": {},
   "outputs": [],
   "source": [
    "mylist_names = ['df_calls', 'df_internet', 'df_messages', 'df_tariffs', 'df_users']"
   ]
  },
  {
   "cell_type": "code",
   "execution_count": 5,
   "metadata": {},
   "outputs": [
    {
     "name": "stdout",
     "output_type": "stream",
     "text": [
      "Посмотрим на файл df_calls\n",
      "<class 'pandas.core.frame.DataFrame'>\n",
      "Int64Index: 202607 entries, 1000 to 1499\n",
      "Data columns (total 3 columns):\n",
      " #   Column     Non-Null Count   Dtype  \n",
      "---  ------     --------------   -----  \n",
      " 0   id         202607 non-null  object \n",
      " 1   call_date  202607 non-null  object \n",
      " 2   duration   202607 non-null  float64\n",
      "dtypes: float64(1), object(2)\n",
      "memory usage: 6.2+ MB\n"
     ]
    },
    {
     "data": {
      "text/plain": [
       "None"
      ]
     },
     "metadata": {},
     "output_type": "display_data"
    },
    {
     "data": {
      "text/html": [
       "<div>\n",
       "<style scoped>\n",
       "    .dataframe tbody tr th:only-of-type {\n",
       "        vertical-align: middle;\n",
       "    }\n",
       "\n",
       "    .dataframe tbody tr th {\n",
       "        vertical-align: top;\n",
       "    }\n",
       "\n",
       "    .dataframe thead th {\n",
       "        text-align: right;\n",
       "    }\n",
       "</style>\n",
       "<table border=\"1\" class=\"dataframe\">\n",
       "  <thead>\n",
       "    <tr style=\"text-align: right;\">\n",
       "      <th></th>\n",
       "      <th>id</th>\n",
       "      <th>call_date</th>\n",
       "      <th>duration</th>\n",
       "    </tr>\n",
       "    <tr>\n",
       "      <th>user_id</th>\n",
       "      <th></th>\n",
       "      <th></th>\n",
       "      <th></th>\n",
       "    </tr>\n",
       "  </thead>\n",
       "  <tbody>\n",
       "    <tr>\n",
       "      <th>1000</th>\n",
       "      <td>1000_0</td>\n",
       "      <td>2018-07-25</td>\n",
       "      <td>0.00</td>\n",
       "    </tr>\n",
       "    <tr>\n",
       "      <th>1000</th>\n",
       "      <td>1000_1</td>\n",
       "      <td>2018-08-17</td>\n",
       "      <td>0.00</td>\n",
       "    </tr>\n",
       "    <tr>\n",
       "      <th>1000</th>\n",
       "      <td>1000_2</td>\n",
       "      <td>2018-06-11</td>\n",
       "      <td>2.85</td>\n",
       "    </tr>\n",
       "    <tr>\n",
       "      <th>1000</th>\n",
       "      <td>1000_3</td>\n",
       "      <td>2018-09-21</td>\n",
       "      <td>13.80</td>\n",
       "    </tr>\n",
       "    <tr>\n",
       "      <th>1000</th>\n",
       "      <td>1000_4</td>\n",
       "      <td>2018-12-15</td>\n",
       "      <td>5.18</td>\n",
       "    </tr>\n",
       "    <tr>\n",
       "      <th>...</th>\n",
       "      <td>...</td>\n",
       "      <td>...</td>\n",
       "      <td>...</td>\n",
       "    </tr>\n",
       "    <tr>\n",
       "      <th>1499</th>\n",
       "      <td>1499_215</td>\n",
       "      <td>2018-12-26</td>\n",
       "      <td>0.76</td>\n",
       "    </tr>\n",
       "    <tr>\n",
       "      <th>1499</th>\n",
       "      <td>1499_216</td>\n",
       "      <td>2018-10-18</td>\n",
       "      <td>18.83</td>\n",
       "    </tr>\n",
       "    <tr>\n",
       "      <th>1499</th>\n",
       "      <td>1499_217</td>\n",
       "      <td>2018-11-10</td>\n",
       "      <td>10.81</td>\n",
       "    </tr>\n",
       "    <tr>\n",
       "      <th>1499</th>\n",
       "      <td>1499_218</td>\n",
       "      <td>2018-10-06</td>\n",
       "      <td>4.27</td>\n",
       "    </tr>\n",
       "    <tr>\n",
       "      <th>1499</th>\n",
       "      <td>1499_219</td>\n",
       "      <td>2018-12-14</td>\n",
       "      <td>19.62</td>\n",
       "    </tr>\n",
       "  </tbody>\n",
       "</table>\n",
       "<p>202607 rows × 3 columns</p>\n",
       "</div>"
      ],
      "text/plain": [
       "               id   call_date  duration\n",
       "user_id                                \n",
       "1000       1000_0  2018-07-25      0.00\n",
       "1000       1000_1  2018-08-17      0.00\n",
       "1000       1000_2  2018-06-11      2.85\n",
       "1000       1000_3  2018-09-21     13.80\n",
       "1000       1000_4  2018-12-15      5.18\n",
       "...           ...         ...       ...\n",
       "1499     1499_215  2018-12-26      0.76\n",
       "1499     1499_216  2018-10-18     18.83\n",
       "1499     1499_217  2018-11-10     10.81\n",
       "1499     1499_218  2018-10-06      4.27\n",
       "1499     1499_219  2018-12-14     19.62\n",
       "\n",
       "[202607 rows x 3 columns]"
      ]
     },
     "metadata": {},
     "output_type": "display_data"
    },
    {
     "data": {
      "text/html": [
       "<div>\n",
       "<style scoped>\n",
       "    .dataframe tbody tr th:only-of-type {\n",
       "        vertical-align: middle;\n",
       "    }\n",
       "\n",
       "    .dataframe tbody tr th {\n",
       "        vertical-align: top;\n",
       "    }\n",
       "\n",
       "    .dataframe thead th {\n",
       "        text-align: right;\n",
       "    }\n",
       "</style>\n",
       "<table border=\"1\" class=\"dataframe\">\n",
       "  <thead>\n",
       "    <tr style=\"text-align: right;\">\n",
       "      <th></th>\n",
       "      <th>duration</th>\n",
       "    </tr>\n",
       "  </thead>\n",
       "  <tbody>\n",
       "    <tr>\n",
       "      <th>count</th>\n",
       "      <td>202,607.00</td>\n",
       "    </tr>\n",
       "    <tr>\n",
       "      <th>mean</th>\n",
       "      <td>6.76</td>\n",
       "    </tr>\n",
       "    <tr>\n",
       "      <th>std</th>\n",
       "      <td>5.84</td>\n",
       "    </tr>\n",
       "    <tr>\n",
       "      <th>min</th>\n",
       "      <td>0.00</td>\n",
       "    </tr>\n",
       "    <tr>\n",
       "      <th>25%</th>\n",
       "      <td>1.30</td>\n",
       "    </tr>\n",
       "    <tr>\n",
       "      <th>50%</th>\n",
       "      <td>6.00</td>\n",
       "    </tr>\n",
       "    <tr>\n",
       "      <th>75%</th>\n",
       "      <td>10.70</td>\n",
       "    </tr>\n",
       "    <tr>\n",
       "      <th>max</th>\n",
       "      <td>38.00</td>\n",
       "    </tr>\n",
       "  </tbody>\n",
       "</table>\n",
       "</div>"
      ],
      "text/plain": [
       "        duration\n",
       "count 202,607.00\n",
       "mean        6.76\n",
       "std         5.84\n",
       "min         0.00\n",
       "25%         1.30\n",
       "50%         6.00\n",
       "75%        10.70\n",
       "max        38.00"
      ]
     },
     "metadata": {},
     "output_type": "display_data"
    },
    {
     "name": "stdout",
     "output_type": "stream",
     "text": [
      "Посмотрим на файл df_internet\n",
      "<class 'pandas.core.frame.DataFrame'>\n",
      "Int64Index: 149396 entries, 1000 to 1499\n",
      "Data columns (total 4 columns):\n",
      " #   Column        Non-Null Count   Dtype  \n",
      "---  ------        --------------   -----  \n",
      " 0   Unnamed: 0    149396 non-null  int64  \n",
      " 1   id            149396 non-null  object \n",
      " 2   mb_used       149396 non-null  float64\n",
      " 3   session_date  149396 non-null  object \n",
      "dtypes: float64(1), int64(1), object(2)\n",
      "memory usage: 5.7+ MB\n"
     ]
    },
    {
     "data": {
      "text/plain": [
       "None"
      ]
     },
     "metadata": {},
     "output_type": "display_data"
    },
    {
     "data": {
      "text/html": [
       "<div>\n",
       "<style scoped>\n",
       "    .dataframe tbody tr th:only-of-type {\n",
       "        vertical-align: middle;\n",
       "    }\n",
       "\n",
       "    .dataframe tbody tr th {\n",
       "        vertical-align: top;\n",
       "    }\n",
       "\n",
       "    .dataframe thead th {\n",
       "        text-align: right;\n",
       "    }\n",
       "</style>\n",
       "<table border=\"1\" class=\"dataframe\">\n",
       "  <thead>\n",
       "    <tr style=\"text-align: right;\">\n",
       "      <th></th>\n",
       "      <th>Unnamed: 0</th>\n",
       "      <th>id</th>\n",
       "      <th>mb_used</th>\n",
       "      <th>session_date</th>\n",
       "    </tr>\n",
       "    <tr>\n",
       "      <th>user_id</th>\n",
       "      <th></th>\n",
       "      <th></th>\n",
       "      <th></th>\n",
       "      <th></th>\n",
       "    </tr>\n",
       "  </thead>\n",
       "  <tbody>\n",
       "    <tr>\n",
       "      <th>1000</th>\n",
       "      <td>0</td>\n",
       "      <td>1000_0</td>\n",
       "      <td>112.95</td>\n",
       "      <td>2018-11-25</td>\n",
       "    </tr>\n",
       "    <tr>\n",
       "      <th>1000</th>\n",
       "      <td>1</td>\n",
       "      <td>1000_1</td>\n",
       "      <td>1,052.81</td>\n",
       "      <td>2018-09-07</td>\n",
       "    </tr>\n",
       "    <tr>\n",
       "      <th>1000</th>\n",
       "      <td>2</td>\n",
       "      <td>1000_2</td>\n",
       "      <td>1,197.26</td>\n",
       "      <td>2018-06-25</td>\n",
       "    </tr>\n",
       "    <tr>\n",
       "      <th>1000</th>\n",
       "      <td>3</td>\n",
       "      <td>1000_3</td>\n",
       "      <td>550.27</td>\n",
       "      <td>2018-08-22</td>\n",
       "    </tr>\n",
       "    <tr>\n",
       "      <th>1000</th>\n",
       "      <td>4</td>\n",
       "      <td>1000_4</td>\n",
       "      <td>302.56</td>\n",
       "      <td>2018-09-24</td>\n",
       "    </tr>\n",
       "    <tr>\n",
       "      <th>...</th>\n",
       "      <td>...</td>\n",
       "      <td>...</td>\n",
       "      <td>...</td>\n",
       "      <td>...</td>\n",
       "    </tr>\n",
       "    <tr>\n",
       "      <th>1499</th>\n",
       "      <td>149391</td>\n",
       "      <td>1499_152</td>\n",
       "      <td>318.90</td>\n",
       "      <td>2018-10-03</td>\n",
       "    </tr>\n",
       "    <tr>\n",
       "      <th>1499</th>\n",
       "      <td>149392</td>\n",
       "      <td>1499_153</td>\n",
       "      <td>490.13</td>\n",
       "      <td>2018-12-14</td>\n",
       "    </tr>\n",
       "    <tr>\n",
       "      <th>1499</th>\n",
       "      <td>149393</td>\n",
       "      <td>1499_154</td>\n",
       "      <td>0.00</td>\n",
       "      <td>2018-10-27</td>\n",
       "    </tr>\n",
       "    <tr>\n",
       "      <th>1499</th>\n",
       "      <td>149394</td>\n",
       "      <td>1499_155</td>\n",
       "      <td>1,246.32</td>\n",
       "      <td>2018-11-26</td>\n",
       "    </tr>\n",
       "    <tr>\n",
       "      <th>1499</th>\n",
       "      <td>149395</td>\n",
       "      <td>1499_156</td>\n",
       "      <td>544.37</td>\n",
       "      <td>2018-10-26</td>\n",
       "    </tr>\n",
       "  </tbody>\n",
       "</table>\n",
       "<p>149396 rows × 4 columns</p>\n",
       "</div>"
      ],
      "text/plain": [
       "         Unnamed: 0        id  mb_used session_date\n",
       "user_id                                            \n",
       "1000              0    1000_0   112.95   2018-11-25\n",
       "1000              1    1000_1 1,052.81   2018-09-07\n",
       "1000              2    1000_2 1,197.26   2018-06-25\n",
       "1000              3    1000_3   550.27   2018-08-22\n",
       "1000              4    1000_4   302.56   2018-09-24\n",
       "...             ...       ...      ...          ...\n",
       "1499         149391  1499_152   318.90   2018-10-03\n",
       "1499         149392  1499_153   490.13   2018-12-14\n",
       "1499         149393  1499_154     0.00   2018-10-27\n",
       "1499         149394  1499_155 1,246.32   2018-11-26\n",
       "1499         149395  1499_156   544.37   2018-10-26\n",
       "\n",
       "[149396 rows x 4 columns]"
      ]
     },
     "metadata": {},
     "output_type": "display_data"
    },
    {
     "data": {
      "text/html": [
       "<div>\n",
       "<style scoped>\n",
       "    .dataframe tbody tr th:only-of-type {\n",
       "        vertical-align: middle;\n",
       "    }\n",
       "\n",
       "    .dataframe tbody tr th {\n",
       "        vertical-align: top;\n",
       "    }\n",
       "\n",
       "    .dataframe thead th {\n",
       "        text-align: right;\n",
       "    }\n",
       "</style>\n",
       "<table border=\"1\" class=\"dataframe\">\n",
       "  <thead>\n",
       "    <tr style=\"text-align: right;\">\n",
       "      <th></th>\n",
       "      <th>Unnamed: 0</th>\n",
       "      <th>mb_used</th>\n",
       "    </tr>\n",
       "  </thead>\n",
       "  <tbody>\n",
       "    <tr>\n",
       "      <th>count</th>\n",
       "      <td>149,396.00</td>\n",
       "      <td>149,396.00</td>\n",
       "    </tr>\n",
       "    <tr>\n",
       "      <th>mean</th>\n",
       "      <td>74,697.50</td>\n",
       "      <td>370.19</td>\n",
       "    </tr>\n",
       "    <tr>\n",
       "      <th>std</th>\n",
       "      <td>43,127.05</td>\n",
       "      <td>278.30</td>\n",
       "    </tr>\n",
       "    <tr>\n",
       "      <th>min</th>\n",
       "      <td>0.00</td>\n",
       "      <td>0.00</td>\n",
       "    </tr>\n",
       "    <tr>\n",
       "      <th>25%</th>\n",
       "      <td>37,348.75</td>\n",
       "      <td>138.19</td>\n",
       "    </tr>\n",
       "    <tr>\n",
       "      <th>50%</th>\n",
       "      <td>74,697.50</td>\n",
       "      <td>348.01</td>\n",
       "    </tr>\n",
       "    <tr>\n",
       "      <th>75%</th>\n",
       "      <td>112,046.25</td>\n",
       "      <td>559.55</td>\n",
       "    </tr>\n",
       "    <tr>\n",
       "      <th>max</th>\n",
       "      <td>149,395.00</td>\n",
       "      <td>1,724.83</td>\n",
       "    </tr>\n",
       "  </tbody>\n",
       "</table>\n",
       "</div>"
      ],
      "text/plain": [
       "       Unnamed: 0    mb_used\n",
       "count  149,396.00 149,396.00\n",
       "mean    74,697.50     370.19\n",
       "std     43,127.05     278.30\n",
       "min          0.00       0.00\n",
       "25%     37,348.75     138.19\n",
       "50%     74,697.50     348.01\n",
       "75%    112,046.25     559.55\n",
       "max    149,395.00   1,724.83"
      ]
     },
     "metadata": {},
     "output_type": "display_data"
    },
    {
     "name": "stdout",
     "output_type": "stream",
     "text": [
      "Посмотрим на файл df_messages\n",
      "<class 'pandas.core.frame.DataFrame'>\n",
      "Int64Index: 123036 entries, 1000 to 1499\n",
      "Data columns (total 2 columns):\n",
      " #   Column        Non-Null Count   Dtype \n",
      "---  ------        --------------   ----- \n",
      " 0   id            123036 non-null  object\n",
      " 1   message_date  123036 non-null  object\n",
      "dtypes: object(2)\n",
      "memory usage: 2.8+ MB\n"
     ]
    },
    {
     "data": {
      "text/plain": [
       "None"
      ]
     },
     "metadata": {},
     "output_type": "display_data"
    },
    {
     "data": {
      "text/html": [
       "<div>\n",
       "<style scoped>\n",
       "    .dataframe tbody tr th:only-of-type {\n",
       "        vertical-align: middle;\n",
       "    }\n",
       "\n",
       "    .dataframe tbody tr th {\n",
       "        vertical-align: top;\n",
       "    }\n",
       "\n",
       "    .dataframe thead th {\n",
       "        text-align: right;\n",
       "    }\n",
       "</style>\n",
       "<table border=\"1\" class=\"dataframe\">\n",
       "  <thead>\n",
       "    <tr style=\"text-align: right;\">\n",
       "      <th></th>\n",
       "      <th>id</th>\n",
       "      <th>message_date</th>\n",
       "    </tr>\n",
       "    <tr>\n",
       "      <th>user_id</th>\n",
       "      <th></th>\n",
       "      <th></th>\n",
       "    </tr>\n",
       "  </thead>\n",
       "  <tbody>\n",
       "    <tr>\n",
       "      <th>1000</th>\n",
       "      <td>1000_0</td>\n",
       "      <td>2018-06-27</td>\n",
       "    </tr>\n",
       "    <tr>\n",
       "      <th>1000</th>\n",
       "      <td>1000_1</td>\n",
       "      <td>2018-10-08</td>\n",
       "    </tr>\n",
       "    <tr>\n",
       "      <th>1000</th>\n",
       "      <td>1000_2</td>\n",
       "      <td>2018-08-04</td>\n",
       "    </tr>\n",
       "    <tr>\n",
       "      <th>1000</th>\n",
       "      <td>1000_3</td>\n",
       "      <td>2018-06-16</td>\n",
       "    </tr>\n",
       "    <tr>\n",
       "      <th>1000</th>\n",
       "      <td>1000_4</td>\n",
       "      <td>2018-12-05</td>\n",
       "    </tr>\n",
       "    <tr>\n",
       "      <th>...</th>\n",
       "      <td>...</td>\n",
       "      <td>...</td>\n",
       "    </tr>\n",
       "    <tr>\n",
       "      <th>1499</th>\n",
       "      <td>1499_179</td>\n",
       "      <td>2018-12-12</td>\n",
       "    </tr>\n",
       "    <tr>\n",
       "      <th>1499</th>\n",
       "      <td>1499_180</td>\n",
       "      <td>2018-09-28</td>\n",
       "    </tr>\n",
       "    <tr>\n",
       "      <th>1499</th>\n",
       "      <td>1499_181</td>\n",
       "      <td>2018-09-27</td>\n",
       "    </tr>\n",
       "    <tr>\n",
       "      <th>1499</th>\n",
       "      <td>1499_182</td>\n",
       "      <td>2018-11-15</td>\n",
       "    </tr>\n",
       "    <tr>\n",
       "      <th>1499</th>\n",
       "      <td>1499_183</td>\n",
       "      <td>2018-11-16</td>\n",
       "    </tr>\n",
       "  </tbody>\n",
       "</table>\n",
       "<p>123036 rows × 2 columns</p>\n",
       "</div>"
      ],
      "text/plain": [
       "               id message_date\n",
       "user_id                       \n",
       "1000       1000_0   2018-06-27\n",
       "1000       1000_1   2018-10-08\n",
       "1000       1000_2   2018-08-04\n",
       "1000       1000_3   2018-06-16\n",
       "1000       1000_4   2018-12-05\n",
       "...           ...          ...\n",
       "1499     1499_179   2018-12-12\n",
       "1499     1499_180   2018-09-28\n",
       "1499     1499_181   2018-09-27\n",
       "1499     1499_182   2018-11-15\n",
       "1499     1499_183   2018-11-16\n",
       "\n",
       "[123036 rows x 2 columns]"
      ]
     },
     "metadata": {},
     "output_type": "display_data"
    },
    {
     "data": {
      "text/html": [
       "<div>\n",
       "<style scoped>\n",
       "    .dataframe tbody tr th:only-of-type {\n",
       "        vertical-align: middle;\n",
       "    }\n",
       "\n",
       "    .dataframe tbody tr th {\n",
       "        vertical-align: top;\n",
       "    }\n",
       "\n",
       "    .dataframe thead th {\n",
       "        text-align: right;\n",
       "    }\n",
       "</style>\n",
       "<table border=\"1\" class=\"dataframe\">\n",
       "  <thead>\n",
       "    <tr style=\"text-align: right;\">\n",
       "      <th></th>\n",
       "      <th>id</th>\n",
       "      <th>message_date</th>\n",
       "    </tr>\n",
       "  </thead>\n",
       "  <tbody>\n",
       "    <tr>\n",
       "      <th>count</th>\n",
       "      <td>123036</td>\n",
       "      <td>123036</td>\n",
       "    </tr>\n",
       "    <tr>\n",
       "      <th>unique</th>\n",
       "      <td>123036</td>\n",
       "      <td>364</td>\n",
       "    </tr>\n",
       "    <tr>\n",
       "      <th>top</th>\n",
       "      <td>1433_766</td>\n",
       "      <td>2018-12-31</td>\n",
       "    </tr>\n",
       "    <tr>\n",
       "      <th>freq</th>\n",
       "      <td>1</td>\n",
       "      <td>859</td>\n",
       "    </tr>\n",
       "  </tbody>\n",
       "</table>\n",
       "</div>"
      ],
      "text/plain": [
       "              id message_date\n",
       "count     123036       123036\n",
       "unique    123036          364\n",
       "top     1433_766   2018-12-31\n",
       "freq           1          859"
      ]
     },
     "metadata": {},
     "output_type": "display_data"
    },
    {
     "name": "stdout",
     "output_type": "stream",
     "text": [
      "Посмотрим на файл df_tariffs\n",
      "<class 'pandas.core.frame.DataFrame'>\n",
      "Index: 2 entries, smart to ultra\n",
      "Data columns (total 7 columns):\n",
      " #   Column                 Non-Null Count  Dtype\n",
      "---  ------                 --------------  -----\n",
      " 0   messages_included      2 non-null      int64\n",
      " 1   mb_per_month_included  2 non-null      int64\n",
      " 2   minutes_included       2 non-null      int64\n",
      " 3   rub_monthly_fee        2 non-null      int64\n",
      " 4   rub_per_gb             2 non-null      int64\n",
      " 5   rub_per_message        2 non-null      int64\n",
      " 6   rub_per_minute         2 non-null      int64\n",
      "dtypes: int64(7)\n",
      "memory usage: 128.0+ bytes\n"
     ]
    },
    {
     "data": {
      "text/plain": [
       "None"
      ]
     },
     "metadata": {},
     "output_type": "display_data"
    },
    {
     "data": {
      "text/html": [
       "<div>\n",
       "<style scoped>\n",
       "    .dataframe tbody tr th:only-of-type {\n",
       "        vertical-align: middle;\n",
       "    }\n",
       "\n",
       "    .dataframe tbody tr th {\n",
       "        vertical-align: top;\n",
       "    }\n",
       "\n",
       "    .dataframe thead th {\n",
       "        text-align: right;\n",
       "    }\n",
       "</style>\n",
       "<table border=\"1\" class=\"dataframe\">\n",
       "  <thead>\n",
       "    <tr style=\"text-align: right;\">\n",
       "      <th></th>\n",
       "      <th>messages_included</th>\n",
       "      <th>mb_per_month_included</th>\n",
       "      <th>minutes_included</th>\n",
       "      <th>rub_monthly_fee</th>\n",
       "      <th>rub_per_gb</th>\n",
       "      <th>rub_per_message</th>\n",
       "      <th>rub_per_minute</th>\n",
       "    </tr>\n",
       "    <tr>\n",
       "      <th>tariff_name</th>\n",
       "      <th></th>\n",
       "      <th></th>\n",
       "      <th></th>\n",
       "      <th></th>\n",
       "      <th></th>\n",
       "      <th></th>\n",
       "      <th></th>\n",
       "    </tr>\n",
       "  </thead>\n",
       "  <tbody>\n",
       "    <tr>\n",
       "      <th>smart</th>\n",
       "      <td>50</td>\n",
       "      <td>15360</td>\n",
       "      <td>500</td>\n",
       "      <td>550</td>\n",
       "      <td>200</td>\n",
       "      <td>3</td>\n",
       "      <td>3</td>\n",
       "    </tr>\n",
       "    <tr>\n",
       "      <th>ultra</th>\n",
       "      <td>1000</td>\n",
       "      <td>30720</td>\n",
       "      <td>3000</td>\n",
       "      <td>1950</td>\n",
       "      <td>150</td>\n",
       "      <td>1</td>\n",
       "      <td>1</td>\n",
       "    </tr>\n",
       "  </tbody>\n",
       "</table>\n",
       "</div>"
      ],
      "text/plain": [
       "             messages_included  mb_per_month_included  minutes_included  \\\n",
       "tariff_name                                                               \n",
       "smart                       50                  15360               500   \n",
       "ultra                     1000                  30720              3000   \n",
       "\n",
       "             rub_monthly_fee  rub_per_gb  rub_per_message  rub_per_minute  \n",
       "tariff_name                                                                \n",
       "smart                    550         200                3               3  \n",
       "ultra                   1950         150                1               1  "
      ]
     },
     "metadata": {},
     "output_type": "display_data"
    },
    {
     "data": {
      "text/html": [
       "<div>\n",
       "<style scoped>\n",
       "    .dataframe tbody tr th:only-of-type {\n",
       "        vertical-align: middle;\n",
       "    }\n",
       "\n",
       "    .dataframe tbody tr th {\n",
       "        vertical-align: top;\n",
       "    }\n",
       "\n",
       "    .dataframe thead th {\n",
       "        text-align: right;\n",
       "    }\n",
       "</style>\n",
       "<table border=\"1\" class=\"dataframe\">\n",
       "  <thead>\n",
       "    <tr style=\"text-align: right;\">\n",
       "      <th></th>\n",
       "      <th>messages_included</th>\n",
       "      <th>mb_per_month_included</th>\n",
       "      <th>minutes_included</th>\n",
       "      <th>rub_monthly_fee</th>\n",
       "      <th>rub_per_gb</th>\n",
       "      <th>rub_per_message</th>\n",
       "      <th>rub_per_minute</th>\n",
       "    </tr>\n",
       "  </thead>\n",
       "  <tbody>\n",
       "    <tr>\n",
       "      <th>count</th>\n",
       "      <td>2.00</td>\n",
       "      <td>2.00</td>\n",
       "      <td>2.00</td>\n",
       "      <td>2.00</td>\n",
       "      <td>2.00</td>\n",
       "      <td>2.00</td>\n",
       "      <td>2.00</td>\n",
       "    </tr>\n",
       "    <tr>\n",
       "      <th>mean</th>\n",
       "      <td>525.00</td>\n",
       "      <td>23,040.00</td>\n",
       "      <td>1,750.00</td>\n",
       "      <td>1,250.00</td>\n",
       "      <td>175.00</td>\n",
       "      <td>2.00</td>\n",
       "      <td>2.00</td>\n",
       "    </tr>\n",
       "    <tr>\n",
       "      <th>std</th>\n",
       "      <td>671.75</td>\n",
       "      <td>10,861.16</td>\n",
       "      <td>1,767.77</td>\n",
       "      <td>989.95</td>\n",
       "      <td>35.36</td>\n",
       "      <td>1.41</td>\n",
       "      <td>1.41</td>\n",
       "    </tr>\n",
       "    <tr>\n",
       "      <th>min</th>\n",
       "      <td>50.00</td>\n",
       "      <td>15,360.00</td>\n",
       "      <td>500.00</td>\n",
       "      <td>550.00</td>\n",
       "      <td>150.00</td>\n",
       "      <td>1.00</td>\n",
       "      <td>1.00</td>\n",
       "    </tr>\n",
       "    <tr>\n",
       "      <th>25%</th>\n",
       "      <td>287.50</td>\n",
       "      <td>19,200.00</td>\n",
       "      <td>1,125.00</td>\n",
       "      <td>900.00</td>\n",
       "      <td>162.50</td>\n",
       "      <td>1.50</td>\n",
       "      <td>1.50</td>\n",
       "    </tr>\n",
       "    <tr>\n",
       "      <th>50%</th>\n",
       "      <td>525.00</td>\n",
       "      <td>23,040.00</td>\n",
       "      <td>1,750.00</td>\n",
       "      <td>1,250.00</td>\n",
       "      <td>175.00</td>\n",
       "      <td>2.00</td>\n",
       "      <td>2.00</td>\n",
       "    </tr>\n",
       "    <tr>\n",
       "      <th>75%</th>\n",
       "      <td>762.50</td>\n",
       "      <td>26,880.00</td>\n",
       "      <td>2,375.00</td>\n",
       "      <td>1,600.00</td>\n",
       "      <td>187.50</td>\n",
       "      <td>2.50</td>\n",
       "      <td>2.50</td>\n",
       "    </tr>\n",
       "    <tr>\n",
       "      <th>max</th>\n",
       "      <td>1,000.00</td>\n",
       "      <td>30,720.00</td>\n",
       "      <td>3,000.00</td>\n",
       "      <td>1,950.00</td>\n",
       "      <td>200.00</td>\n",
       "      <td>3.00</td>\n",
       "      <td>3.00</td>\n",
       "    </tr>\n",
       "  </tbody>\n",
       "</table>\n",
       "</div>"
      ],
      "text/plain": [
       "       messages_included  mb_per_month_included  minutes_included  \\\n",
       "count               2.00                   2.00              2.00   \n",
       "mean              525.00              23,040.00          1,750.00   \n",
       "std               671.75              10,861.16          1,767.77   \n",
       "min                50.00              15,360.00            500.00   \n",
       "25%               287.50              19,200.00          1,125.00   \n",
       "50%               525.00              23,040.00          1,750.00   \n",
       "75%               762.50              26,880.00          2,375.00   \n",
       "max             1,000.00              30,720.00          3,000.00   \n",
       "\n",
       "       rub_monthly_fee  rub_per_gb  rub_per_message  rub_per_minute  \n",
       "count             2.00        2.00             2.00            2.00  \n",
       "mean          1,250.00      175.00             2.00            2.00  \n",
       "std             989.95       35.36             1.41            1.41  \n",
       "min             550.00      150.00             1.00            1.00  \n",
       "25%             900.00      162.50             1.50            1.50  \n",
       "50%           1,250.00      175.00             2.00            2.00  \n",
       "75%           1,600.00      187.50             2.50            2.50  \n",
       "max           1,950.00      200.00             3.00            3.00  "
      ]
     },
     "metadata": {},
     "output_type": "display_data"
    },
    {
     "name": "stdout",
     "output_type": "stream",
     "text": [
      "Посмотрим на файл df_users\n",
      "<class 'pandas.core.frame.DataFrame'>\n",
      "Int64Index: 500 entries, 1000 to 1499\n",
      "Data columns (total 7 columns):\n",
      " #   Column      Non-Null Count  Dtype \n",
      "---  ------      --------------  ----- \n",
      " 0   age         500 non-null    int64 \n",
      " 1   churn_date  38 non-null     object\n",
      " 2   city        500 non-null    object\n",
      " 3   first_name  500 non-null    object\n",
      " 4   last_name   500 non-null    object\n",
      " 5   reg_date    500 non-null    object\n",
      " 6   tariff      500 non-null    object\n",
      "dtypes: int64(1), object(6)\n",
      "memory usage: 31.2+ KB\n"
     ]
    },
    {
     "data": {
      "text/plain": [
       "None"
      ]
     },
     "metadata": {},
     "output_type": "display_data"
    },
    {
     "data": {
      "text/html": [
       "<div>\n",
       "<style scoped>\n",
       "    .dataframe tbody tr th:only-of-type {\n",
       "        vertical-align: middle;\n",
       "    }\n",
       "\n",
       "    .dataframe tbody tr th {\n",
       "        vertical-align: top;\n",
       "    }\n",
       "\n",
       "    .dataframe thead th {\n",
       "        text-align: right;\n",
       "    }\n",
       "</style>\n",
       "<table border=\"1\" class=\"dataframe\">\n",
       "  <thead>\n",
       "    <tr style=\"text-align: right;\">\n",
       "      <th></th>\n",
       "      <th>age</th>\n",
       "      <th>churn_date</th>\n",
       "      <th>city</th>\n",
       "      <th>first_name</th>\n",
       "      <th>last_name</th>\n",
       "      <th>reg_date</th>\n",
       "      <th>tariff</th>\n",
       "    </tr>\n",
       "    <tr>\n",
       "      <th>user_id</th>\n",
       "      <th></th>\n",
       "      <th></th>\n",
       "      <th></th>\n",
       "      <th></th>\n",
       "      <th></th>\n",
       "      <th></th>\n",
       "      <th></th>\n",
       "    </tr>\n",
       "  </thead>\n",
       "  <tbody>\n",
       "    <tr>\n",
       "      <th>1000</th>\n",
       "      <td>52</td>\n",
       "      <td>NaN</td>\n",
       "      <td>Краснодар</td>\n",
       "      <td>Рафаил</td>\n",
       "      <td>Верещагин</td>\n",
       "      <td>2018-05-25</td>\n",
       "      <td>ultra</td>\n",
       "    </tr>\n",
       "    <tr>\n",
       "      <th>1001</th>\n",
       "      <td>41</td>\n",
       "      <td>NaN</td>\n",
       "      <td>Москва</td>\n",
       "      <td>Иван</td>\n",
       "      <td>Ежов</td>\n",
       "      <td>2018-11-01</td>\n",
       "      <td>smart</td>\n",
       "    </tr>\n",
       "    <tr>\n",
       "      <th>1002</th>\n",
       "      <td>59</td>\n",
       "      <td>NaN</td>\n",
       "      <td>Стерлитамак</td>\n",
       "      <td>Евгений</td>\n",
       "      <td>Абрамович</td>\n",
       "      <td>2018-06-17</td>\n",
       "      <td>smart</td>\n",
       "    </tr>\n",
       "    <tr>\n",
       "      <th>1003</th>\n",
       "      <td>23</td>\n",
       "      <td>NaN</td>\n",
       "      <td>Москва</td>\n",
       "      <td>Белла</td>\n",
       "      <td>Белякова</td>\n",
       "      <td>2018-08-17</td>\n",
       "      <td>ultra</td>\n",
       "    </tr>\n",
       "    <tr>\n",
       "      <th>1004</th>\n",
       "      <td>68</td>\n",
       "      <td>NaN</td>\n",
       "      <td>Новокузнецк</td>\n",
       "      <td>Татьяна</td>\n",
       "      <td>Авдеенко</td>\n",
       "      <td>2018-05-14</td>\n",
       "      <td>ultra</td>\n",
       "    </tr>\n",
       "    <tr>\n",
       "      <th>...</th>\n",
       "      <td>...</td>\n",
       "      <td>...</td>\n",
       "      <td>...</td>\n",
       "      <td>...</td>\n",
       "      <td>...</td>\n",
       "      <td>...</td>\n",
       "      <td>...</td>\n",
       "    </tr>\n",
       "    <tr>\n",
       "      <th>1495</th>\n",
       "      <td>65</td>\n",
       "      <td>NaN</td>\n",
       "      <td>Иркутск</td>\n",
       "      <td>Авксентий</td>\n",
       "      <td>Фокин</td>\n",
       "      <td>2018-08-28</td>\n",
       "      <td>ultra</td>\n",
       "    </tr>\n",
       "    <tr>\n",
       "      <th>1496</th>\n",
       "      <td>36</td>\n",
       "      <td>NaN</td>\n",
       "      <td>Вологда</td>\n",
       "      <td>Трифон</td>\n",
       "      <td>Блохин</td>\n",
       "      <td>2018-01-27</td>\n",
       "      <td>smart</td>\n",
       "    </tr>\n",
       "    <tr>\n",
       "      <th>1497</th>\n",
       "      <td>32</td>\n",
       "      <td>NaN</td>\n",
       "      <td>Челябинск</td>\n",
       "      <td>Каролина</td>\n",
       "      <td>Агеева</td>\n",
       "      <td>2018-10-09</td>\n",
       "      <td>smart</td>\n",
       "    </tr>\n",
       "    <tr>\n",
       "      <th>1498</th>\n",
       "      <td>68</td>\n",
       "      <td>2018-10-25</td>\n",
       "      <td>Владикавказ</td>\n",
       "      <td>Всеволод</td>\n",
       "      <td>Акимчин</td>\n",
       "      <td>2018-07-19</td>\n",
       "      <td>smart</td>\n",
       "    </tr>\n",
       "    <tr>\n",
       "      <th>1499</th>\n",
       "      <td>35</td>\n",
       "      <td>NaN</td>\n",
       "      <td>Пермь</td>\n",
       "      <td>Гектор</td>\n",
       "      <td>Корнилов</td>\n",
       "      <td>2018-09-27</td>\n",
       "      <td>smart</td>\n",
       "    </tr>\n",
       "  </tbody>\n",
       "</table>\n",
       "<p>500 rows × 7 columns</p>\n",
       "</div>"
      ],
      "text/plain": [
       "         age  churn_date         city first_name  last_name    reg_date tariff\n",
       "user_id                                                                       \n",
       "1000      52         NaN    Краснодар     Рафаил  Верещагин  2018-05-25  ultra\n",
       "1001      41         NaN       Москва       Иван       Ежов  2018-11-01  smart\n",
       "1002      59         NaN  Стерлитамак    Евгений  Абрамович  2018-06-17  smart\n",
       "1003      23         NaN       Москва      Белла   Белякова  2018-08-17  ultra\n",
       "1004      68         NaN  Новокузнецк    Татьяна   Авдеенко  2018-05-14  ultra\n",
       "...      ...         ...          ...        ...        ...         ...    ...\n",
       "1495      65         NaN      Иркутск  Авксентий      Фокин  2018-08-28  ultra\n",
       "1496      36         NaN      Вологда     Трифон     Блохин  2018-01-27  smart\n",
       "1497      32         NaN    Челябинск   Каролина     Агеева  2018-10-09  smart\n",
       "1498      68  2018-10-25  Владикавказ   Всеволод    Акимчин  2018-07-19  smart\n",
       "1499      35         NaN        Пермь     Гектор   Корнилов  2018-09-27  smart\n",
       "\n",
       "[500 rows x 7 columns]"
      ]
     },
     "metadata": {},
     "output_type": "display_data"
    },
    {
     "data": {
      "text/html": [
       "<div>\n",
       "<style scoped>\n",
       "    .dataframe tbody tr th:only-of-type {\n",
       "        vertical-align: middle;\n",
       "    }\n",
       "\n",
       "    .dataframe tbody tr th {\n",
       "        vertical-align: top;\n",
       "    }\n",
       "\n",
       "    .dataframe thead th {\n",
       "        text-align: right;\n",
       "    }\n",
       "</style>\n",
       "<table border=\"1\" class=\"dataframe\">\n",
       "  <thead>\n",
       "    <tr style=\"text-align: right;\">\n",
       "      <th></th>\n",
       "      <th>age</th>\n",
       "    </tr>\n",
       "  </thead>\n",
       "  <tbody>\n",
       "    <tr>\n",
       "      <th>count</th>\n",
       "      <td>500.00</td>\n",
       "    </tr>\n",
       "    <tr>\n",
       "      <th>mean</th>\n",
       "      <td>46.59</td>\n",
       "    </tr>\n",
       "    <tr>\n",
       "      <th>std</th>\n",
       "      <td>16.67</td>\n",
       "    </tr>\n",
       "    <tr>\n",
       "      <th>min</th>\n",
       "      <td>18.00</td>\n",
       "    </tr>\n",
       "    <tr>\n",
       "      <th>25%</th>\n",
       "      <td>32.00</td>\n",
       "    </tr>\n",
       "    <tr>\n",
       "      <th>50%</th>\n",
       "      <td>46.00</td>\n",
       "    </tr>\n",
       "    <tr>\n",
       "      <th>75%</th>\n",
       "      <td>62.00</td>\n",
       "    </tr>\n",
       "    <tr>\n",
       "      <th>max</th>\n",
       "      <td>75.00</td>\n",
       "    </tr>\n",
       "  </tbody>\n",
       "</table>\n",
       "</div>"
      ],
      "text/plain": [
       "         age\n",
       "count 500.00\n",
       "mean   46.59\n",
       "std    16.67\n",
       "min    18.00\n",
       "25%    32.00\n",
       "50%    46.00\n",
       "75%    62.00\n",
       "max    75.00"
      ]
     },
     "metadata": {},
     "output_type": "display_data"
    }
   ],
   "source": [
    "mylist = [df_calls, df_internet, df_messages, df_tariffs, df_users]\n",
    "for i in range(5):\n",
    "    print('Посмотрим на файл', mylist_names[i])\n",
    "    display(mylist[i].info())\n",
    "    display(mylist[i])\n",
    "    display(mylist[i].describe())\n",
    "    "
   ]
  },
  {
   "cell_type": "markdown",
   "metadata": {},
   "source": [
    "## Подготовка данных"
   ]
  },
  {
   "cell_type": "markdown",
   "metadata": {},
   "source": [
    "Приведем даты к нужному типу и вытащим месяц и год в отдельные переменные."
   ]
  },
  {
   "cell_type": "code",
   "execution_count": 6,
   "metadata": {},
   "outputs": [],
   "source": [
    "df_calls['call_date'] = pd.to_datetime(df_calls['call_date'],format='%Y/%m/%d')"
   ]
  },
  {
   "cell_type": "code",
   "execution_count": 7,
   "metadata": {},
   "outputs": [],
   "source": [
    "df_internet['session_date'] = pd.to_datetime(df_internet['session_date'],format='%Y/%m/%d')"
   ]
  },
  {
   "cell_type": "code",
   "execution_count": 8,
   "metadata": {},
   "outputs": [],
   "source": [
    "df_messages['message_date'] = pd.to_datetime(df_messages['message_date'],format='%Y/%m/%d')"
   ]
  },
  {
   "cell_type": "code",
   "execution_count": 9,
   "metadata": {},
   "outputs": [],
   "source": [
    "df_users['churn_date'] = pd.to_datetime(df_users['churn_date'],format='%Y/%m/%d')"
   ]
  },
  {
   "cell_type": "code",
   "execution_count": 10,
   "metadata": {},
   "outputs": [],
   "source": [
    "df_users['reg_date'] = pd.to_datetime(df_users['reg_date'],format='%Y/%m/%d')"
   ]
  },
  {
   "cell_type": "code",
   "execution_count": 11,
   "metadata": {},
   "outputs": [],
   "source": [
    "df_calls['call_month'] = df_calls['call_date'].dt.month"
   ]
  },
  {
   "cell_type": "code",
   "execution_count": 12,
   "metadata": {},
   "outputs": [],
   "source": [
    "df_internet['session_month']=df_internet['session_date'].dt.month"
   ]
  },
  {
   "cell_type": "code",
   "execution_count": 13,
   "metadata": {},
   "outputs": [],
   "source": [
    "df_messages['message_month']=df_messages['message_date'].dt.month"
   ]
  },
  {
   "cell_type": "code",
   "execution_count": 14,
   "metadata": {},
   "outputs": [],
   "source": [
    "df_users['churn_month']=df_users['churn_date'].dt.month"
   ]
  },
  {
   "cell_type": "code",
   "execution_count": 15,
   "metadata": {},
   "outputs": [],
   "source": [
    "df_users['reg_month']=df_users['reg_date'].dt.month"
   ]
  },
  {
   "cell_type": "code",
   "execution_count": 16,
   "metadata": {},
   "outputs": [
    {
     "data": {
      "text/html": [
       "<div>\n",
       "<style scoped>\n",
       "    .dataframe tbody tr th:only-of-type {\n",
       "        vertical-align: middle;\n",
       "    }\n",
       "\n",
       "    .dataframe tbody tr th {\n",
       "        vertical-align: top;\n",
       "    }\n",
       "\n",
       "    .dataframe thead th {\n",
       "        text-align: right;\n",
       "    }\n",
       "</style>\n",
       "<table border=\"1\" class=\"dataframe\">\n",
       "  <thead>\n",
       "    <tr style=\"text-align: right;\">\n",
       "      <th></th>\n",
       "      <th>id</th>\n",
       "      <th>call_date</th>\n",
       "      <th>duration</th>\n",
       "      <th>call_month</th>\n",
       "    </tr>\n",
       "    <tr>\n",
       "      <th>user_id</th>\n",
       "      <th></th>\n",
       "      <th></th>\n",
       "      <th></th>\n",
       "      <th></th>\n",
       "    </tr>\n",
       "  </thead>\n",
       "  <tbody>\n",
       "    <tr>\n",
       "      <th>1000</th>\n",
       "      <td>1000_0</td>\n",
       "      <td>2018-07-25</td>\n",
       "      <td>0.00</td>\n",
       "      <td>7</td>\n",
       "    </tr>\n",
       "    <tr>\n",
       "      <th>1000</th>\n",
       "      <td>1000_1</td>\n",
       "      <td>2018-08-17</td>\n",
       "      <td>0.00</td>\n",
       "      <td>8</td>\n",
       "    </tr>\n",
       "    <tr>\n",
       "      <th>1000</th>\n",
       "      <td>1000_2</td>\n",
       "      <td>2018-06-11</td>\n",
       "      <td>2.85</td>\n",
       "      <td>6</td>\n",
       "    </tr>\n",
       "    <tr>\n",
       "      <th>1000</th>\n",
       "      <td>1000_3</td>\n",
       "      <td>2018-09-21</td>\n",
       "      <td>13.80</td>\n",
       "      <td>9</td>\n",
       "    </tr>\n",
       "    <tr>\n",
       "      <th>1000</th>\n",
       "      <td>1000_4</td>\n",
       "      <td>2018-12-15</td>\n",
       "      <td>5.18</td>\n",
       "      <td>12</td>\n",
       "    </tr>\n",
       "  </tbody>\n",
       "</table>\n",
       "</div>"
      ],
      "text/plain": [
       "             id  call_date  duration  call_month\n",
       "user_id                                         \n",
       "1000     1000_0 2018-07-25      0.00           7\n",
       "1000     1000_1 2018-08-17      0.00           8\n",
       "1000     1000_2 2018-06-11      2.85           6\n",
       "1000     1000_3 2018-09-21     13.80           9\n",
       "1000     1000_4 2018-12-15      5.18          12"
      ]
     },
     "execution_count": 16,
     "metadata": {},
     "output_type": "execute_result"
    }
   ],
   "source": [
    "df_calls.head()"
   ]
  },
  {
   "cell_type": "code",
   "execution_count": 17,
   "metadata": {},
   "outputs": [],
   "source": [
    "df_calls['call_year'] = df_calls['call_date'].dt.year"
   ]
  },
  {
   "cell_type": "code",
   "execution_count": 18,
   "metadata": {},
   "outputs": [],
   "source": [
    "df_internet['session_year']=df_internet['session_date'].dt.year"
   ]
  },
  {
   "cell_type": "code",
   "execution_count": 19,
   "metadata": {},
   "outputs": [],
   "source": [
    "df_messages['message_year']=df_messages['message_date'].dt.year"
   ]
  },
  {
   "cell_type": "markdown",
   "metadata": {},
   "source": [
    "Округлим количество минут и потраченных мегабайтов вверх (как делает сама компания)"
   ]
  },
  {
   "cell_type": "code",
   "execution_count": 20,
   "metadata": {},
   "outputs": [],
   "source": [
    "df_calls['duration'] = np.ceil(df_calls['duration'])"
   ]
  },
  {
   "cell_type": "code",
   "execution_count": 21,
   "metadata": {},
   "outputs": [],
   "source": [
    "df_internet['mb_used'] = np.ceil(df_internet['mb_used'])"
   ]
  },
  {
   "cell_type": "markdown",
   "metadata": {},
   "source": [
    "Разберемся с нулевыми и пропущенными значениями"
   ]
  },
  {
   "cell_type": "code",
   "execution_count": 22,
   "metadata": {},
   "outputs": [
    {
     "data": {
      "text/plain": [
       "0.00     39613\n",
       "7.00     11510\n",
       "6.00     11457\n",
       "5.00     11411\n",
       "8.00     11272\n",
       "9.00     10973\n",
       "4.00     10918\n",
       "3.00     10362\n",
       "10.00    10186\n",
       "11.00     9385\n",
       "2.00      9194\n",
       "12.00     8448\n",
       "1.00      8402\n",
       "13.00     7486\n",
       "14.00     6554\n",
       "15.00     5505\n",
       "16.00     4551\n",
       "17.00     3671\n",
       "18.00     2984\n",
       "19.00     2411\n",
       "20.00     1806\n",
       "21.00     1304\n",
       "22.00      975\n",
       "23.00      720\n",
       "24.00      468\n",
       "25.00      363\n",
       "26.00      257\n",
       "27.00      151\n",
       "28.00      104\n",
       "29.00       56\n",
       "30.00       39\n",
       "31.00       30\n",
       "32.00       17\n",
       "33.00       10\n",
       "35.00        5\n",
       "34.00        3\n",
       "38.00        2\n",
       "36.00        2\n",
       "37.00        2\n",
       "Name: duration, dtype: int64"
      ]
     },
     "execution_count": 22,
     "metadata": {},
     "output_type": "execute_result"
    }
   ],
   "source": [
    "df_calls['duration'].value_counts(dropna = False)"
   ]
  },
  {
   "cell_type": "code",
   "execution_count": 23,
   "metadata": {},
   "outputs": [
    {
     "data": {
      "text/plain": [
       "0.00        19598\n",
       "333.00        231\n",
       "382.00        228\n",
       "377.00        224\n",
       "253.00        222\n",
       "            ...  \n",
       "1,308.00        1\n",
       "1,456.00        1\n",
       "1,375.00        1\n",
       "1,364.00        1\n",
       "1,291.00        1\n",
       "Name: mb_used, Length: 1424, dtype: int64"
      ]
     },
     "execution_count": 23,
     "metadata": {},
     "output_type": "execute_result"
    }
   ],
   "source": [
    "df_internet['mb_used'].value_counts(dropna = False)"
   ]
  },
  {
   "cell_type": "markdown",
   "metadata": {},
   "source": [
    "Видим, что пропущенных данных в длительности разговоров и объеме трафика нет, но есть существенная доля нулевых значений. Удалим строки с нулевыми значениями, считая, что это несостоявшиеся сессии, которые не должны участвовать в анализе."
   ]
  },
  {
   "cell_type": "code",
   "execution_count": 24,
   "metadata": {},
   "outputs": [
    {
     "data": {
      "text/plain": [
       "202607"
      ]
     },
     "execution_count": 24,
     "metadata": {},
     "output_type": "execute_result"
    }
   ],
   "source": [
    "len(df_calls)"
   ]
  },
  {
   "cell_type": "code",
   "execution_count": 25,
   "metadata": {},
   "outputs": [],
   "source": [
    "df_calls = df_calls[df_calls['duration'] != 0 ]"
   ]
  },
  {
   "cell_type": "code",
   "execution_count": 26,
   "metadata": {},
   "outputs": [
    {
     "data": {
      "text/plain": [
       "162994"
      ]
     },
     "execution_count": 26,
     "metadata": {},
     "output_type": "execute_result"
    }
   ],
   "source": [
    "len(df_calls)"
   ]
  },
  {
   "cell_type": "code",
   "execution_count": 27,
   "metadata": {},
   "outputs": [
    {
     "data": {
      "text/plain": [
       "149396"
      ]
     },
     "execution_count": 27,
     "metadata": {},
     "output_type": "execute_result"
    }
   ],
   "source": [
    "len(df_internet)"
   ]
  },
  {
   "cell_type": "code",
   "execution_count": 28,
   "metadata": {},
   "outputs": [],
   "source": [
    "df_internet = df_internet[df_internet['mb_used'] != 0]"
   ]
  },
  {
   "cell_type": "code",
   "execution_count": 29,
   "metadata": {},
   "outputs": [
    {
     "data": {
      "text/plain": [
       "129798"
      ]
     },
     "execution_count": 29,
     "metadata": {},
     "output_type": "execute_result"
    }
   ],
   "source": [
    "len(df_internet)"
   ]
  },
  {
   "cell_type": "markdown",
   "metadata": {},
   "source": [
    "Агрегируем данные о звонках до уровня пользователей по месяцам"
   ]
  },
  {
   "cell_type": "code",
   "execution_count": 30,
   "metadata": {},
   "outputs": [],
   "source": [
    "calls_by_users = df_calls.groupby(['user_id', 'call_month']).agg({\n",
    "    'duration' : ['sum', 'mean', 'count']\n",
    "})\n",
    "calls_by_users.columns = ['total_duration', 'mean_duration', 'total_calls']\n",
    "calls_by_users.index.names = ['user_id', 'month']"
   ]
  },
  {
   "cell_type": "code",
   "execution_count": 31,
   "metadata": {
    "scrolled": true
   },
   "outputs": [
    {
     "data": {
      "text/html": [
       "<div>\n",
       "<style scoped>\n",
       "    .dataframe tbody tr th:only-of-type {\n",
       "        vertical-align: middle;\n",
       "    }\n",
       "\n",
       "    .dataframe tbody tr th {\n",
       "        vertical-align: top;\n",
       "    }\n",
       "\n",
       "    .dataframe thead th {\n",
       "        text-align: right;\n",
       "    }\n",
       "</style>\n",
       "<table border=\"1\" class=\"dataframe\">\n",
       "  <thead>\n",
       "    <tr style=\"text-align: right;\">\n",
       "      <th></th>\n",
       "      <th></th>\n",
       "      <th>total_duration</th>\n",
       "      <th>mean_duration</th>\n",
       "      <th>total_calls</th>\n",
       "    </tr>\n",
       "    <tr>\n",
       "      <th>user_id</th>\n",
       "      <th>month</th>\n",
       "      <th></th>\n",
       "      <th></th>\n",
       "      <th></th>\n",
       "    </tr>\n",
       "  </thead>\n",
       "  <tbody>\n",
       "    <tr>\n",
       "      <th rowspan=\"5\" valign=\"top\">1000</th>\n",
       "      <th>5</th>\n",
       "      <td>159.00</td>\n",
       "      <td>9.35</td>\n",
       "      <td>17</td>\n",
       "    </tr>\n",
       "    <tr>\n",
       "      <th>6</th>\n",
       "      <td>172.00</td>\n",
       "      <td>6.14</td>\n",
       "      <td>28</td>\n",
       "    </tr>\n",
       "    <tr>\n",
       "      <th>7</th>\n",
       "      <td>340.00</td>\n",
       "      <td>8.29</td>\n",
       "      <td>41</td>\n",
       "    </tr>\n",
       "    <tr>\n",
       "      <th>8</th>\n",
       "      <td>408.00</td>\n",
       "      <td>9.71</td>\n",
       "      <td>42</td>\n",
       "    </tr>\n",
       "    <tr>\n",
       "      <th>9</th>\n",
       "      <td>466.00</td>\n",
       "      <td>10.13</td>\n",
       "      <td>46</td>\n",
       "    </tr>\n",
       "  </tbody>\n",
       "</table>\n",
       "</div>"
      ],
      "text/plain": [
       "               total_duration  mean_duration  total_calls\n",
       "user_id month                                            \n",
       "1000    5              159.00           9.35           17\n",
       "        6              172.00           6.14           28\n",
       "        7              340.00           8.29           41\n",
       "        8              408.00           9.71           42\n",
       "        9              466.00          10.13           46"
      ]
     },
     "execution_count": 31,
     "metadata": {},
     "output_type": "execute_result"
    }
   ],
   "source": [
    "calls_by_users.head()"
   ]
  },
  {
   "cell_type": "markdown",
   "metadata": {},
   "source": [
    "Агрегируем данные о сообщениях до уровня пользователей по месяцам"
   ]
  },
  {
   "cell_type": "code",
   "execution_count": 32,
   "metadata": {},
   "outputs": [],
   "source": [
    "messages_by_users = df_messages.groupby(['user_id', 'message_month']).agg({\n",
    "    'id' : ['count']\n",
    "})\n",
    "messages_by_users.columns = ['total_messages']\n",
    "messages_by_users.index.names = ['user_id', 'month']"
   ]
  },
  {
   "cell_type": "code",
   "execution_count": 33,
   "metadata": {},
   "outputs": [
    {
     "data": {
      "text/html": [
       "<div>\n",
       "<style scoped>\n",
       "    .dataframe tbody tr th:only-of-type {\n",
       "        vertical-align: middle;\n",
       "    }\n",
       "\n",
       "    .dataframe tbody tr th {\n",
       "        vertical-align: top;\n",
       "    }\n",
       "\n",
       "    .dataframe thead th {\n",
       "        text-align: right;\n",
       "    }\n",
       "</style>\n",
       "<table border=\"1\" class=\"dataframe\">\n",
       "  <thead>\n",
       "    <tr style=\"text-align: right;\">\n",
       "      <th></th>\n",
       "      <th></th>\n",
       "      <th>total_messages</th>\n",
       "    </tr>\n",
       "    <tr>\n",
       "      <th>user_id</th>\n",
       "      <th>month</th>\n",
       "      <th></th>\n",
       "    </tr>\n",
       "  </thead>\n",
       "  <tbody>\n",
       "    <tr>\n",
       "      <th rowspan=\"5\" valign=\"top\">1000</th>\n",
       "      <th>5</th>\n",
       "      <td>22</td>\n",
       "    </tr>\n",
       "    <tr>\n",
       "      <th>6</th>\n",
       "      <td>60</td>\n",
       "    </tr>\n",
       "    <tr>\n",
       "      <th>7</th>\n",
       "      <td>75</td>\n",
       "    </tr>\n",
       "    <tr>\n",
       "      <th>8</th>\n",
       "      <td>81</td>\n",
       "    </tr>\n",
       "    <tr>\n",
       "      <th>9</th>\n",
       "      <td>57</td>\n",
       "    </tr>\n",
       "  </tbody>\n",
       "</table>\n",
       "</div>"
      ],
      "text/plain": [
       "               total_messages\n",
       "user_id month                \n",
       "1000    5                  22\n",
       "        6                  60\n",
       "        7                  75\n",
       "        8                  81\n",
       "        9                  57"
      ]
     },
     "execution_count": 33,
     "metadata": {},
     "output_type": "execute_result"
    }
   ],
   "source": [
    "messages_by_users.head()"
   ]
  },
  {
   "cell_type": "markdown",
   "metadata": {},
   "source": [
    "Агрегируем данные об интернет-трафике до уровня пользователей по месяцам"
   ]
  },
  {
   "cell_type": "code",
   "execution_count": 34,
   "metadata": {},
   "outputs": [],
   "source": [
    "internet_by_users = df_internet.groupby(['user_id', 'session_month']).agg({\n",
    "    'mb_used' : ['sum']\n",
    "})\n",
    "internet_by_users.columns = ['total_mb']\n",
    "internet_by_users.index.names = ['user_id', 'month']"
   ]
  },
  {
   "cell_type": "code",
   "execution_count": 35,
   "metadata": {},
   "outputs": [
    {
     "data": {
      "text/html": [
       "<div>\n",
       "<style scoped>\n",
       "    .dataframe tbody tr th:only-of-type {\n",
       "        vertical-align: middle;\n",
       "    }\n",
       "\n",
       "    .dataframe tbody tr th {\n",
       "        vertical-align: top;\n",
       "    }\n",
       "\n",
       "    .dataframe thead th {\n",
       "        text-align: right;\n",
       "    }\n",
       "</style>\n",
       "<table border=\"1\" class=\"dataframe\">\n",
       "  <thead>\n",
       "    <tr style=\"text-align: right;\">\n",
       "      <th></th>\n",
       "      <th></th>\n",
       "      <th>total_mb</th>\n",
       "    </tr>\n",
       "    <tr>\n",
       "      <th>user_id</th>\n",
       "      <th>month</th>\n",
       "      <th></th>\n",
       "    </tr>\n",
       "  </thead>\n",
       "  <tbody>\n",
       "    <tr>\n",
       "      <th rowspan=\"5\" valign=\"top\">1000</th>\n",
       "      <th>5</th>\n",
       "      <td>2,256.00</td>\n",
       "    </tr>\n",
       "    <tr>\n",
       "      <th>6</th>\n",
       "      <td>23,257.00</td>\n",
       "    </tr>\n",
       "    <tr>\n",
       "      <th>7</th>\n",
       "      <td>14,016.00</td>\n",
       "    </tr>\n",
       "    <tr>\n",
       "      <th>8</th>\n",
       "      <td>14,070.00</td>\n",
       "    </tr>\n",
       "    <tr>\n",
       "      <th>9</th>\n",
       "      <td>14,581.00</td>\n",
       "    </tr>\n",
       "  </tbody>\n",
       "</table>\n",
       "</div>"
      ],
      "text/plain": [
       "               total_mb\n",
       "user_id month          \n",
       "1000    5      2,256.00\n",
       "        6     23,257.00\n",
       "        7     14,016.00\n",
       "        8     14,070.00\n",
       "        9     14,581.00"
      ]
     },
     "execution_count": 35,
     "metadata": {},
     "output_type": "execute_result"
    }
   ],
   "source": [
    "internet_by_users.head()"
   ]
  },
  {
   "cell_type": "markdown",
   "metadata": {},
   "source": [
    "Объединим таблицы в одну"
   ]
  },
  {
   "cell_type": "code",
   "execution_count": 36,
   "metadata": {},
   "outputs": [],
   "source": [
    "df_total = calls_by_users.merge(internet_by_users, on = ['user_id', 'month'], how= 'outer')"
   ]
  },
  {
   "cell_type": "code",
   "execution_count": 37,
   "metadata": {},
   "outputs": [],
   "source": [
    "df_total = df_total.merge(messages_by_users, on = ['user_id', 'month'], how= 'outer')"
   ]
  },
  {
   "cell_type": "code",
   "execution_count": 38,
   "metadata": {},
   "outputs": [],
   "source": [
    "df_total = df_total.merge(df_users, on = ['user_id'], how= 'outer')"
   ]
  },
  {
   "cell_type": "code",
   "execution_count": 39,
   "metadata": {},
   "outputs": [],
   "source": [
    "df_total = df_total.rename(columns={'tariff': 'tariff_name'})"
   ]
  },
  {
   "cell_type": "code",
   "execution_count": 40,
   "metadata": {},
   "outputs": [],
   "source": [
    "df_total=df_total.reset_index()"
   ]
  },
  {
   "cell_type": "code",
   "execution_count": 41,
   "metadata": {},
   "outputs": [],
   "source": [
    "df_total = df_total.merge(df_tariffs, on = ['tariff_name'], how= 'outer')"
   ]
  },
  {
   "cell_type": "code",
   "execution_count": 42,
   "metadata": {},
   "outputs": [
    {
     "name": "stdout",
     "output_type": "stream",
     "text": [
      "<class 'pandas.core.frame.DataFrame'>\n",
      "Int64Index: 3216 entries, 0 to 3215\n",
      "Data columns (total 22 columns):\n",
      " #   Column                 Non-Null Count  Dtype         \n",
      "---  ------                 --------------  -----         \n",
      " 0   user_id                3216 non-null   int64         \n",
      " 1   total_duration         3168 non-null   float64       \n",
      " 2   mean_duration          3168 non-null   float64       \n",
      " 3   total_calls            3168 non-null   float64       \n",
      " 4   total_mb               3201 non-null   float64       \n",
      " 5   total_messages         2717 non-null   float64       \n",
      " 6   age                    3216 non-null   int64         \n",
      " 7   churn_date             189 non-null    datetime64[ns]\n",
      " 8   city                   3216 non-null   object        \n",
      " 9   first_name             3216 non-null   object        \n",
      " 10  last_name              3216 non-null   object        \n",
      " 11  reg_date               3216 non-null   datetime64[ns]\n",
      " 12  tariff_name            3216 non-null   object        \n",
      " 13  churn_month            189 non-null    float64       \n",
      " 14  reg_month              3216 non-null   int64         \n",
      " 15  messages_included      3216 non-null   int64         \n",
      " 16  mb_per_month_included  3216 non-null   int64         \n",
      " 17  minutes_included       3216 non-null   int64         \n",
      " 18  rub_monthly_fee        3216 non-null   int64         \n",
      " 19  rub_per_gb             3216 non-null   int64         \n",
      " 20  rub_per_message        3216 non-null   int64         \n",
      " 21  rub_per_minute         3216 non-null   int64         \n",
      "dtypes: datetime64[ns](2), float64(6), int64(10), object(4)\n",
      "memory usage: 577.9+ KB\n"
     ]
    }
   ],
   "source": [
    "df_total.info()"
   ]
  },
  {
   "cell_type": "code",
   "execution_count": 43,
   "metadata": {},
   "outputs": [
    {
     "data": {
      "text/html": [
       "<div>\n",
       "<style scoped>\n",
       "    .dataframe tbody tr th:only-of-type {\n",
       "        vertical-align: middle;\n",
       "    }\n",
       "\n",
       "    .dataframe tbody tr th {\n",
       "        vertical-align: top;\n",
       "    }\n",
       "\n",
       "    .dataframe thead th {\n",
       "        text-align: right;\n",
       "    }\n",
       "</style>\n",
       "<table border=\"1\" class=\"dataframe\">\n",
       "  <thead>\n",
       "    <tr style=\"text-align: right;\">\n",
       "      <th></th>\n",
       "      <th>user_id</th>\n",
       "      <th>total_duration</th>\n",
       "      <th>mean_duration</th>\n",
       "      <th>total_calls</th>\n",
       "      <th>total_mb</th>\n",
       "      <th>total_messages</th>\n",
       "      <th>age</th>\n",
       "      <th>churn_month</th>\n",
       "      <th>reg_month</th>\n",
       "      <th>messages_included</th>\n",
       "      <th>mb_per_month_included</th>\n",
       "      <th>minutes_included</th>\n",
       "      <th>rub_monthly_fee</th>\n",
       "      <th>rub_per_gb</th>\n",
       "      <th>rub_per_message</th>\n",
       "      <th>rub_per_minute</th>\n",
       "    </tr>\n",
       "  </thead>\n",
       "  <tbody>\n",
       "    <tr>\n",
       "      <th>count</th>\n",
       "      <td>3,216.00</td>\n",
       "      <td>3,168.00</td>\n",
       "      <td>3,168.00</td>\n",
       "      <td>3,168.00</td>\n",
       "      <td>3,201.00</td>\n",
       "      <td>2,717.00</td>\n",
       "      <td>3,216.00</td>\n",
       "      <td>189.00</td>\n",
       "      <td>3,216.00</td>\n",
       "      <td>3,216.00</td>\n",
       "      <td>3,216.00</td>\n",
       "      <td>3,216.00</td>\n",
       "      <td>3,216.00</td>\n",
       "      <td>3,216.00</td>\n",
       "      <td>3,216.00</td>\n",
       "      <td>3,216.00</td>\n",
       "    </tr>\n",
       "    <tr>\n",
       "      <th>mean</th>\n",
       "      <td>1,251.59</td>\n",
       "      <td>457.80</td>\n",
       "      <td>8.90</td>\n",
       "      <td>51.45</td>\n",
       "      <td>17,297.55</td>\n",
       "      <td>45.28</td>\n",
       "      <td>46.64</td>\n",
       "      <td>10.57</td>\n",
       "      <td>4.72</td>\n",
       "      <td>341.26</td>\n",
       "      <td>20,069.25</td>\n",
       "      <td>1,266.48</td>\n",
       "      <td>979.23</td>\n",
       "      <td>184.67</td>\n",
       "      <td>2.39</td>\n",
       "      <td>2.39</td>\n",
       "    </tr>\n",
       "    <tr>\n",
       "      <th>std</th>\n",
       "      <td>144.65</td>\n",
       "      <td>237.42</td>\n",
       "      <td>1.01</td>\n",
       "      <td>26.44</td>\n",
       "      <td>7,513.50</td>\n",
       "      <td>35.05</td>\n",
       "      <td>16.58</td>\n",
       "      <td>1.30</td>\n",
       "      <td>2.91</td>\n",
       "      <td>438.09</td>\n",
       "      <td>7,083.27</td>\n",
       "      <td>1,152.88</td>\n",
       "      <td>645.61</td>\n",
       "      <td>23.06</td>\n",
       "      <td>0.92</td>\n",
       "      <td>0.92</td>\n",
       "    </tr>\n",
       "    <tr>\n",
       "      <th>min</th>\n",
       "      <td>1,000.00</td>\n",
       "      <td>1.00</td>\n",
       "      <td>1.00</td>\n",
       "      <td>1.00</td>\n",
       "      <td>202.00</td>\n",
       "      <td>1.00</td>\n",
       "      <td>18.00</td>\n",
       "      <td>8.00</td>\n",
       "      <td>1.00</td>\n",
       "      <td>50.00</td>\n",
       "      <td>15,360.00</td>\n",
       "      <td>500.00</td>\n",
       "      <td>550.00</td>\n",
       "      <td>150.00</td>\n",
       "      <td>1.00</td>\n",
       "      <td>1.00</td>\n",
       "    </tr>\n",
       "    <tr>\n",
       "      <th>25%</th>\n",
       "      <td>1,125.00</td>\n",
       "      <td>290.75</td>\n",
       "      <td>8.38</td>\n",
       "      <td>33.00</td>\n",
       "      <td>12,567.00</td>\n",
       "      <td>19.00</td>\n",
       "      <td>32.00</td>\n",
       "      <td>10.00</td>\n",
       "      <td>2.00</td>\n",
       "      <td>50.00</td>\n",
       "      <td>15,360.00</td>\n",
       "      <td>500.00</td>\n",
       "      <td>550.00</td>\n",
       "      <td>150.00</td>\n",
       "      <td>1.00</td>\n",
       "      <td>1.00</td>\n",
       "    </tr>\n",
       "    <tr>\n",
       "      <th>50%</th>\n",
       "      <td>1,253.00</td>\n",
       "      <td>447.50</td>\n",
       "      <td>8.91</td>\n",
       "      <td>50.00</td>\n",
       "      <td>16,986.00</td>\n",
       "      <td>38.00</td>\n",
       "      <td>46.00</td>\n",
       "      <td>11.00</td>\n",
       "      <td>4.00</td>\n",
       "      <td>50.00</td>\n",
       "      <td>15,360.00</td>\n",
       "      <td>500.00</td>\n",
       "      <td>550.00</td>\n",
       "      <td>200.00</td>\n",
       "      <td>3.00</td>\n",
       "      <td>3.00</td>\n",
       "    </tr>\n",
       "    <tr>\n",
       "      <th>75%</th>\n",
       "      <td>1,378.25</td>\n",
       "      <td>592.25</td>\n",
       "      <td>9.42</td>\n",
       "      <td>67.00</td>\n",
       "      <td>21,458.00</td>\n",
       "      <td>63.00</td>\n",
       "      <td>62.00</td>\n",
       "      <td>12.00</td>\n",
       "      <td>7.00</td>\n",
       "      <td>1,000.00</td>\n",
       "      <td>30,720.00</td>\n",
       "      <td>3,000.00</td>\n",
       "      <td>1,950.00</td>\n",
       "      <td>200.00</td>\n",
       "      <td>3.00</td>\n",
       "      <td>3.00</td>\n",
       "    </tr>\n",
       "    <tr>\n",
       "      <th>max</th>\n",
       "      <td>1,499.00</td>\n",
       "      <td>1,673.00</td>\n",
       "      <td>18.00</td>\n",
       "      <td>190.00</td>\n",
       "      <td>49,789.00</td>\n",
       "      <td>224.00</td>\n",
       "      <td>75.00</td>\n",
       "      <td>12.00</td>\n",
       "      <td>12.00</td>\n",
       "      <td>1,000.00</td>\n",
       "      <td>30,720.00</td>\n",
       "      <td>3,000.00</td>\n",
       "      <td>1,950.00</td>\n",
       "      <td>200.00</td>\n",
       "      <td>3.00</td>\n",
       "      <td>3.00</td>\n",
       "    </tr>\n",
       "  </tbody>\n",
       "</table>\n",
       "</div>"
      ],
      "text/plain": [
       "       user_id  total_duration  mean_duration  total_calls  total_mb  \\\n",
       "count 3,216.00        3,168.00       3,168.00     3,168.00  3,201.00   \n",
       "mean  1,251.59          457.80           8.90        51.45 17,297.55   \n",
       "std     144.65          237.42           1.01        26.44  7,513.50   \n",
       "min   1,000.00            1.00           1.00         1.00    202.00   \n",
       "25%   1,125.00          290.75           8.38        33.00 12,567.00   \n",
       "50%   1,253.00          447.50           8.91        50.00 16,986.00   \n",
       "75%   1,378.25          592.25           9.42        67.00 21,458.00   \n",
       "max   1,499.00        1,673.00          18.00       190.00 49,789.00   \n",
       "\n",
       "       total_messages      age  churn_month  reg_month  messages_included  \\\n",
       "count        2,717.00 3,216.00       189.00   3,216.00           3,216.00   \n",
       "mean            45.28    46.64        10.57       4.72             341.26   \n",
       "std             35.05    16.58         1.30       2.91             438.09   \n",
       "min              1.00    18.00         8.00       1.00              50.00   \n",
       "25%             19.00    32.00        10.00       2.00              50.00   \n",
       "50%             38.00    46.00        11.00       4.00              50.00   \n",
       "75%             63.00    62.00        12.00       7.00           1,000.00   \n",
       "max            224.00    75.00        12.00      12.00           1,000.00   \n",
       "\n",
       "       mb_per_month_included  minutes_included  rub_monthly_fee  rub_per_gb  \\\n",
       "count               3,216.00          3,216.00         3,216.00    3,216.00   \n",
       "mean               20,069.25          1,266.48           979.23      184.67   \n",
       "std                 7,083.27          1,152.88           645.61       23.06   \n",
       "min                15,360.00            500.00           550.00      150.00   \n",
       "25%                15,360.00            500.00           550.00      150.00   \n",
       "50%                15,360.00            500.00           550.00      200.00   \n",
       "75%                30,720.00          3,000.00         1,950.00      200.00   \n",
       "max                30,720.00          3,000.00         1,950.00      200.00   \n",
       "\n",
       "       rub_per_message  rub_per_minute  \n",
       "count         3,216.00        3,216.00  \n",
       "mean              2.39            2.39  \n",
       "std               0.92            0.92  \n",
       "min               1.00            1.00  \n",
       "25%               1.00            1.00  \n",
       "50%               3.00            3.00  \n",
       "75%               3.00            3.00  \n",
       "max               3.00            3.00  "
      ]
     },
     "execution_count": 43,
     "metadata": {},
     "output_type": "execute_result"
    }
   ],
   "source": [
    "df_total.describe()"
   ]
  },
  {
   "cell_type": "markdown",
   "metadata": {},
   "source": [
    "Посмотрим, сколько у нас пропущенных данных"
   ]
  },
  {
   "cell_type": "code",
   "execution_count": 44,
   "metadata": {},
   "outputs": [
    {
     "name": "stdout",
     "output_type": "stream",
     "text": [
      "В переменной total_duration пропущено 1.49%\n",
      "В переменной mean_duration пропущено 1.49%\n",
      "В переменной total_calls пропущено 1.49%\n",
      "В переменной total_mb пропущено 0.47%\n",
      "В переменной total_messages пропущено 15.52%\n",
      "В переменной churn_date пропущено 94.12%\n",
      "В переменной churn_month пропущено 94.12%\n"
     ]
    }
   ],
   "source": [
    "test_df_total = pd.DataFrame(df_total.isna().mean())\n",
    "test_df_total.columns = ['isna']\n",
    "#display(test.head())\n",
    "\n",
    "for column in test_df_total.index:\n",
    "    if test_df_total.loc[column, 'isna'] !=0:\n",
    "        print('В переменной', column, 'пропущено {0:,.2%}'.format(test_df_total.loc[column, 'isna']))\n",
    "    #else:\n",
    "        #print('В переменной', column, 'нет пропусков')"
   ]
  },
  {
   "cell_type": "markdown",
   "metadata": {},
   "source": [
    "Видим, что у нас есть некоторое небольшое количество пропущенных данных в переменных, содержащих информацию о звонках и трафике (не больше 1,5%) и 16% пропущенных данных в переменной, содержащей информацию о сообщениях. Во всех этих случаях будем считать, что пропущенные данные соответствуют отсутствующей деятельности, т.е. заменим эти ячейки на ноль.\n"
   ]
  },
  {
   "cell_type": "code",
   "execution_count": 45,
   "metadata": {},
   "outputs": [],
   "source": [
    "mylist2 = ['total_duration', 'mean_duration', 'total_calls', 'total_mb', 'total_messages']\n",
    "for i in range(5):\n",
    "    df_total[mylist2[i]] = df_total[mylist2[i]].fillna(0)\n",
    "    df_total[mylist2[i]].value_counts(dropna = False)"
   ]
  },
  {
   "cell_type": "markdown",
   "metadata": {},
   "source": [
    "Вычисляем выручку"
   ]
  },
  {
   "cell_type": "code",
   "execution_count": 46,
   "metadata": {},
   "outputs": [
    {
     "data": {
      "text/html": [
       "<div>\n",
       "<style scoped>\n",
       "    .dataframe tbody tr th:only-of-type {\n",
       "        vertical-align: middle;\n",
       "    }\n",
       "\n",
       "    .dataframe tbody tr th {\n",
       "        vertical-align: top;\n",
       "    }\n",
       "\n",
       "    .dataframe thead th {\n",
       "        text-align: right;\n",
       "    }\n",
       "</style>\n",
       "<table border=\"1\" class=\"dataframe\">\n",
       "  <thead>\n",
       "    <tr style=\"text-align: right;\">\n",
       "      <th></th>\n",
       "      <th>user_id</th>\n",
       "      <th>total_duration</th>\n",
       "      <th>mean_duration</th>\n",
       "      <th>total_calls</th>\n",
       "      <th>total_mb</th>\n",
       "      <th>total_messages</th>\n",
       "      <th>age</th>\n",
       "      <th>churn_date</th>\n",
       "      <th>city</th>\n",
       "      <th>first_name</th>\n",
       "      <th>...</th>\n",
       "      <th>churn_month</th>\n",
       "      <th>reg_month</th>\n",
       "      <th>messages_included</th>\n",
       "      <th>mb_per_month_included</th>\n",
       "      <th>minutes_included</th>\n",
       "      <th>rub_monthly_fee</th>\n",
       "      <th>rub_per_gb</th>\n",
       "      <th>rub_per_message</th>\n",
       "      <th>rub_per_minute</th>\n",
       "      <th>month_revenue</th>\n",
       "    </tr>\n",
       "  </thead>\n",
       "  <tbody>\n",
       "    <tr>\n",
       "      <th>0</th>\n",
       "      <td>1000</td>\n",
       "      <td>159.00</td>\n",
       "      <td>9.35</td>\n",
       "      <td>17.00</td>\n",
       "      <td>2,256.00</td>\n",
       "      <td>22.00</td>\n",
       "      <td>52</td>\n",
       "      <td>NaT</td>\n",
       "      <td>Краснодар</td>\n",
       "      <td>Рафаил</td>\n",
       "      <td>...</td>\n",
       "      <td>nan</td>\n",
       "      <td>5</td>\n",
       "      <td>1000</td>\n",
       "      <td>30720</td>\n",
       "      <td>3000</td>\n",
       "      <td>1950</td>\n",
       "      <td>150</td>\n",
       "      <td>1</td>\n",
       "      <td>1</td>\n",
       "      <td>1,950.00</td>\n",
       "    </tr>\n",
       "    <tr>\n",
       "      <th>1</th>\n",
       "      <td>1000</td>\n",
       "      <td>172.00</td>\n",
       "      <td>6.14</td>\n",
       "      <td>28.00</td>\n",
       "      <td>23,257.00</td>\n",
       "      <td>60.00</td>\n",
       "      <td>52</td>\n",
       "      <td>NaT</td>\n",
       "      <td>Краснодар</td>\n",
       "      <td>Рафаил</td>\n",
       "      <td>...</td>\n",
       "      <td>nan</td>\n",
       "      <td>5</td>\n",
       "      <td>1000</td>\n",
       "      <td>30720</td>\n",
       "      <td>3000</td>\n",
       "      <td>1950</td>\n",
       "      <td>150</td>\n",
       "      <td>1</td>\n",
       "      <td>1</td>\n",
       "      <td>1,950.00</td>\n",
       "    </tr>\n",
       "    <tr>\n",
       "      <th>2</th>\n",
       "      <td>1000</td>\n",
       "      <td>340.00</td>\n",
       "      <td>8.29</td>\n",
       "      <td>41.00</td>\n",
       "      <td>14,016.00</td>\n",
       "      <td>75.00</td>\n",
       "      <td>52</td>\n",
       "      <td>NaT</td>\n",
       "      <td>Краснодар</td>\n",
       "      <td>Рафаил</td>\n",
       "      <td>...</td>\n",
       "      <td>nan</td>\n",
       "      <td>5</td>\n",
       "      <td>1000</td>\n",
       "      <td>30720</td>\n",
       "      <td>3000</td>\n",
       "      <td>1950</td>\n",
       "      <td>150</td>\n",
       "      <td>1</td>\n",
       "      <td>1</td>\n",
       "      <td>1,950.00</td>\n",
       "    </tr>\n",
       "    <tr>\n",
       "      <th>3</th>\n",
       "      <td>1000</td>\n",
       "      <td>408.00</td>\n",
       "      <td>9.71</td>\n",
       "      <td>42.00</td>\n",
       "      <td>14,070.00</td>\n",
       "      <td>81.00</td>\n",
       "      <td>52</td>\n",
       "      <td>NaT</td>\n",
       "      <td>Краснодар</td>\n",
       "      <td>Рафаил</td>\n",
       "      <td>...</td>\n",
       "      <td>nan</td>\n",
       "      <td>5</td>\n",
       "      <td>1000</td>\n",
       "      <td>30720</td>\n",
       "      <td>3000</td>\n",
       "      <td>1950</td>\n",
       "      <td>150</td>\n",
       "      <td>1</td>\n",
       "      <td>1</td>\n",
       "      <td>1,950.00</td>\n",
       "    </tr>\n",
       "    <tr>\n",
       "      <th>4</th>\n",
       "      <td>1000</td>\n",
       "      <td>466.00</td>\n",
       "      <td>10.13</td>\n",
       "      <td>46.00</td>\n",
       "      <td>14,581.00</td>\n",
       "      <td>57.00</td>\n",
       "      <td>52</td>\n",
       "      <td>NaT</td>\n",
       "      <td>Краснодар</td>\n",
       "      <td>Рафаил</td>\n",
       "      <td>...</td>\n",
       "      <td>nan</td>\n",
       "      <td>5</td>\n",
       "      <td>1000</td>\n",
       "      <td>30720</td>\n",
       "      <td>3000</td>\n",
       "      <td>1950</td>\n",
       "      <td>150</td>\n",
       "      <td>1</td>\n",
       "      <td>1</td>\n",
       "      <td>1,950.00</td>\n",
       "    </tr>\n",
       "    <tr>\n",
       "      <th>...</th>\n",
       "      <td>...</td>\n",
       "      <td>...</td>\n",
       "      <td>...</td>\n",
       "      <td>...</td>\n",
       "      <td>...</td>\n",
       "      <td>...</td>\n",
       "      <td>...</td>\n",
       "      <td>...</td>\n",
       "      <td>...</td>\n",
       "      <td>...</td>\n",
       "      <td>...</td>\n",
       "      <td>...</td>\n",
       "      <td>...</td>\n",
       "      <td>...</td>\n",
       "      <td>...</td>\n",
       "      <td>...</td>\n",
       "      <td>...</td>\n",
       "      <td>...</td>\n",
       "      <td>...</td>\n",
       "      <td>...</td>\n",
       "      <td>...</td>\n",
       "    </tr>\n",
       "    <tr>\n",
       "      <th>3211</th>\n",
       "      <td>1489</td>\n",
       "      <td>0.00</td>\n",
       "      <td>0.00</td>\n",
       "      <td>0.00</td>\n",
       "      <td>17,232.00</td>\n",
       "      <td>32.00</td>\n",
       "      <td>35</td>\n",
       "      <td>NaT</td>\n",
       "      <td>Санкт-Петербург</td>\n",
       "      <td>Павел</td>\n",
       "      <td>...</td>\n",
       "      <td>nan</td>\n",
       "      <td>8</td>\n",
       "      <td>50</td>\n",
       "      <td>15360</td>\n",
       "      <td>500</td>\n",
       "      <td>550</td>\n",
       "      <td>200</td>\n",
       "      <td>3</td>\n",
       "      <td>3</td>\n",
       "      <td>915.62</td>\n",
       "    </tr>\n",
       "    <tr>\n",
       "      <th>3212</th>\n",
       "      <td>1489</td>\n",
       "      <td>0.00</td>\n",
       "      <td>0.00</td>\n",
       "      <td>0.00</td>\n",
       "      <td>19,588.00</td>\n",
       "      <td>21.00</td>\n",
       "      <td>35</td>\n",
       "      <td>NaT</td>\n",
       "      <td>Санкт-Петербург</td>\n",
       "      <td>Павел</td>\n",
       "      <td>...</td>\n",
       "      <td>nan</td>\n",
       "      <td>8</td>\n",
       "      <td>50</td>\n",
       "      <td>15360</td>\n",
       "      <td>500</td>\n",
       "      <td>550</td>\n",
       "      <td>200</td>\n",
       "      <td>3</td>\n",
       "      <td>3</td>\n",
       "      <td>1,375.78</td>\n",
       "    </tr>\n",
       "    <tr>\n",
       "      <th>3213</th>\n",
       "      <td>1489</td>\n",
       "      <td>0.00</td>\n",
       "      <td>0.00</td>\n",
       "      <td>0.00</td>\n",
       "      <td>17,516.00</td>\n",
       "      <td>20.00</td>\n",
       "      <td>35</td>\n",
       "      <td>NaT</td>\n",
       "      <td>Санкт-Петербург</td>\n",
       "      <td>Павел</td>\n",
       "      <td>...</td>\n",
       "      <td>nan</td>\n",
       "      <td>8</td>\n",
       "      <td>50</td>\n",
       "      <td>15360</td>\n",
       "      <td>500</td>\n",
       "      <td>550</td>\n",
       "      <td>200</td>\n",
       "      <td>3</td>\n",
       "      <td>3</td>\n",
       "      <td>971.09</td>\n",
       "    </tr>\n",
       "    <tr>\n",
       "      <th>3214</th>\n",
       "      <td>1489</td>\n",
       "      <td>0.00</td>\n",
       "      <td>0.00</td>\n",
       "      <td>0.00</td>\n",
       "      <td>17,341.00</td>\n",
       "      <td>35.00</td>\n",
       "      <td>35</td>\n",
       "      <td>NaT</td>\n",
       "      <td>Санкт-Петербург</td>\n",
       "      <td>Павел</td>\n",
       "      <td>...</td>\n",
       "      <td>nan</td>\n",
       "      <td>8</td>\n",
       "      <td>50</td>\n",
       "      <td>15360</td>\n",
       "      <td>500</td>\n",
       "      <td>550</td>\n",
       "      <td>200</td>\n",
       "      <td>3</td>\n",
       "      <td>3</td>\n",
       "      <td>936.91</td>\n",
       "    </tr>\n",
       "    <tr>\n",
       "      <th>3215</th>\n",
       "      <td>1371</td>\n",
       "      <td>0.00</td>\n",
       "      <td>0.00</td>\n",
       "      <td>0.00</td>\n",
       "      <td>0.00</td>\n",
       "      <td>0.00</td>\n",
       "      <td>50</td>\n",
       "      <td>2018-12-30</td>\n",
       "      <td>Омск</td>\n",
       "      <td>Ириней</td>\n",
       "      <td>...</td>\n",
       "      <td>12.00</td>\n",
       "      <td>12</td>\n",
       "      <td>50</td>\n",
       "      <td>15360</td>\n",
       "      <td>500</td>\n",
       "      <td>550</td>\n",
       "      <td>200</td>\n",
       "      <td>3</td>\n",
       "      <td>3</td>\n",
       "      <td>550.00</td>\n",
       "    </tr>\n",
       "  </tbody>\n",
       "</table>\n",
       "<p>3216 rows × 23 columns</p>\n",
       "</div>"
      ],
      "text/plain": [
       "      user_id  total_duration  mean_duration  total_calls  total_mb  \\\n",
       "0        1000          159.00           9.35        17.00  2,256.00   \n",
       "1        1000          172.00           6.14        28.00 23,257.00   \n",
       "2        1000          340.00           8.29        41.00 14,016.00   \n",
       "3        1000          408.00           9.71        42.00 14,070.00   \n",
       "4        1000          466.00          10.13        46.00 14,581.00   \n",
       "...       ...             ...            ...          ...       ...   \n",
       "3211     1489            0.00           0.00         0.00 17,232.00   \n",
       "3212     1489            0.00           0.00         0.00 19,588.00   \n",
       "3213     1489            0.00           0.00         0.00 17,516.00   \n",
       "3214     1489            0.00           0.00         0.00 17,341.00   \n",
       "3215     1371            0.00           0.00         0.00      0.00   \n",
       "\n",
       "      total_messages  age churn_date             city first_name  ...  \\\n",
       "0              22.00   52        NaT        Краснодар     Рафаил  ...   \n",
       "1              60.00   52        NaT        Краснодар     Рафаил  ...   \n",
       "2              75.00   52        NaT        Краснодар     Рафаил  ...   \n",
       "3              81.00   52        NaT        Краснодар     Рафаил  ...   \n",
       "4              57.00   52        NaT        Краснодар     Рафаил  ...   \n",
       "...              ...  ...        ...              ...        ...  ...   \n",
       "3211           32.00   35        NaT  Санкт-Петербург      Павел  ...   \n",
       "3212           21.00   35        NaT  Санкт-Петербург      Павел  ...   \n",
       "3213           20.00   35        NaT  Санкт-Петербург      Павел  ...   \n",
       "3214           35.00   35        NaT  Санкт-Петербург      Павел  ...   \n",
       "3215            0.00   50 2018-12-30             Омск     Ириней  ...   \n",
       "\n",
       "     churn_month reg_month messages_included  mb_per_month_included  \\\n",
       "0            nan         5              1000                  30720   \n",
       "1            nan         5              1000                  30720   \n",
       "2            nan         5              1000                  30720   \n",
       "3            nan         5              1000                  30720   \n",
       "4            nan         5              1000                  30720   \n",
       "...          ...       ...               ...                    ...   \n",
       "3211         nan         8                50                  15360   \n",
       "3212         nan         8                50                  15360   \n",
       "3213         nan         8                50                  15360   \n",
       "3214         nan         8                50                  15360   \n",
       "3215       12.00        12                50                  15360   \n",
       "\n",
       "      minutes_included  rub_monthly_fee  rub_per_gb  rub_per_message  \\\n",
       "0                 3000             1950         150                1   \n",
       "1                 3000             1950         150                1   \n",
       "2                 3000             1950         150                1   \n",
       "3                 3000             1950         150                1   \n",
       "4                 3000             1950         150                1   \n",
       "...                ...              ...         ...              ...   \n",
       "3211               500              550         200                3   \n",
       "3212               500              550         200                3   \n",
       "3213               500              550         200                3   \n",
       "3214               500              550         200                3   \n",
       "3215               500              550         200                3   \n",
       "\n",
       "      rub_per_minute  month_revenue  \n",
       "0                  1       1,950.00  \n",
       "1                  1       1,950.00  \n",
       "2                  1       1,950.00  \n",
       "3                  1       1,950.00  \n",
       "4                  1       1,950.00  \n",
       "...              ...            ...  \n",
       "3211               3         915.62  \n",
       "3212               3       1,375.78  \n",
       "3213               3         971.09  \n",
       "3214               3         936.91  \n",
       "3215               3         550.00  \n",
       "\n",
       "[3216 rows x 23 columns]"
      ]
     },
     "metadata": {},
     "output_type": "display_data"
    }
   ],
   "source": [
    "def month_revenue(row):    \n",
    "    if row['total_duration'] < row['minutes_included']:\n",
    "        calls_revenue = 0\n",
    "    else:\n",
    "        calls_revenue = (row['total_duration'] - row['minutes_included']) * row['rub_per_minute']\n",
    " \n",
    " \n",
    "    if row['total_messages'] < row['messages_included']:\n",
    "        message_revenue = 0\n",
    "    else:\n",
    "        message_revenue = (row['total_messages'] - row['messages_included']) * row['rub_per_message'] \n",
    " \n",
    " \n",
    "    if row['total_mb'] < row['mb_per_month_included']:\n",
    "        internet_revenue = 0\n",
    "    else:\n",
    "        internet_revenue = (row['total_mb'] - row['mb_per_month_included']) / 1024 * row['rub_per_gb']\n",
    " \n",
    " \n",
    "    total_revenue =  row['rub_monthly_fee'] + calls_revenue + message_revenue + internet_revenue\n",
    "    return total_revenue\n",
    " \n",
    "df_total['month_revenue'] = df_total.apply(month_revenue, axis = 1)\n",
    "display(df_total)\n",
    " \n"
   ]
  },
  {
   "cell_type": "code",
   "execution_count": 47,
   "metadata": {},
   "outputs": [
    {
     "data": {
      "text/html": [
       "<div>\n",
       "<style scoped>\n",
       "    .dataframe tbody tr th:only-of-type {\n",
       "        vertical-align: middle;\n",
       "    }\n",
       "\n",
       "    .dataframe tbody tr th {\n",
       "        vertical-align: top;\n",
       "    }\n",
       "\n",
       "    .dataframe thead th {\n",
       "        text-align: right;\n",
       "    }\n",
       "</style>\n",
       "<table border=\"1\" class=\"dataframe\">\n",
       "  <thead>\n",
       "    <tr style=\"text-align: right;\">\n",
       "      <th></th>\n",
       "      <th>user_id</th>\n",
       "      <th>total_duration</th>\n",
       "      <th>mean_duration</th>\n",
       "      <th>total_calls</th>\n",
       "      <th>total_mb</th>\n",
       "      <th>total_messages</th>\n",
       "      <th>age</th>\n",
       "      <th>churn_month</th>\n",
       "      <th>reg_month</th>\n",
       "      <th>messages_included</th>\n",
       "      <th>mb_per_month_included</th>\n",
       "      <th>minutes_included</th>\n",
       "      <th>rub_monthly_fee</th>\n",
       "      <th>rub_per_gb</th>\n",
       "      <th>rub_per_message</th>\n",
       "      <th>rub_per_minute</th>\n",
       "      <th>month_revenue</th>\n",
       "    </tr>\n",
       "  </thead>\n",
       "  <tbody>\n",
       "    <tr>\n",
       "      <th>count</th>\n",
       "      <td>3,216.00</td>\n",
       "      <td>3,216.00</td>\n",
       "      <td>3,216.00</td>\n",
       "      <td>3,216.00</td>\n",
       "      <td>3,216.00</td>\n",
       "      <td>3,216.00</td>\n",
       "      <td>3,216.00</td>\n",
       "      <td>189.00</td>\n",
       "      <td>3,216.00</td>\n",
       "      <td>3,216.00</td>\n",
       "      <td>3,216.00</td>\n",
       "      <td>3,216.00</td>\n",
       "      <td>3,216.00</td>\n",
       "      <td>3,216.00</td>\n",
       "      <td>3,216.00</td>\n",
       "      <td>3,216.00</td>\n",
       "      <td>3,216.00</td>\n",
       "    </tr>\n",
       "    <tr>\n",
       "      <th>mean</th>\n",
       "      <td>1,251.59</td>\n",
       "      <td>450.96</td>\n",
       "      <td>8.76</td>\n",
       "      <td>50.68</td>\n",
       "      <td>17,216.87</td>\n",
       "      <td>38.26</td>\n",
       "      <td>46.64</td>\n",
       "      <td>10.57</td>\n",
       "      <td>4.72</td>\n",
       "      <td>341.26</td>\n",
       "      <td>20,069.25</td>\n",
       "      <td>1,266.48</td>\n",
       "      <td>979.23</td>\n",
       "      <td>184.67</td>\n",
       "      <td>2.39</td>\n",
       "      <td>2.39</td>\n",
       "      <td>1,486.71</td>\n",
       "    </tr>\n",
       "    <tr>\n",
       "      <th>std</th>\n",
       "      <td>144.65</td>\n",
       "      <td>242.10</td>\n",
       "      <td>1.48</td>\n",
       "      <td>26.97</td>\n",
       "      <td>7,588.07</td>\n",
       "      <td>36.15</td>\n",
       "      <td>16.58</td>\n",
       "      <td>1.30</td>\n",
       "      <td>2.91</td>\n",
       "      <td>438.09</td>\n",
       "      <td>7,083.27</td>\n",
       "      <td>1,152.88</td>\n",
       "      <td>645.61</td>\n",
       "      <td>23.06</td>\n",
       "      <td>0.92</td>\n",
       "      <td>0.92</td>\n",
       "      <td>783.94</td>\n",
       "    </tr>\n",
       "    <tr>\n",
       "      <th>min</th>\n",
       "      <td>1,000.00</td>\n",
       "      <td>0.00</td>\n",
       "      <td>0.00</td>\n",
       "      <td>0.00</td>\n",
       "      <td>0.00</td>\n",
       "      <td>0.00</td>\n",
       "      <td>18.00</td>\n",
       "      <td>8.00</td>\n",
       "      <td>1.00</td>\n",
       "      <td>50.00</td>\n",
       "      <td>15,360.00</td>\n",
       "      <td>500.00</td>\n",
       "      <td>550.00</td>\n",
       "      <td>150.00</td>\n",
       "      <td>1.00</td>\n",
       "      <td>1.00</td>\n",
       "      <td>550.00</td>\n",
       "    </tr>\n",
       "    <tr>\n",
       "      <th>25%</th>\n",
       "      <td>1,125.00</td>\n",
       "      <td>282.00</td>\n",
       "      <td>8.35</td>\n",
       "      <td>32.00</td>\n",
       "      <td>12,496.25</td>\n",
       "      <td>9.00</td>\n",
       "      <td>32.00</td>\n",
       "      <td>10.00</td>\n",
       "      <td>2.00</td>\n",
       "      <td>50.00</td>\n",
       "      <td>15,360.00</td>\n",
       "      <td>500.00</td>\n",
       "      <td>550.00</td>\n",
       "      <td>150.00</td>\n",
       "      <td>1.00</td>\n",
       "      <td>1.00</td>\n",
       "      <td>694.00</td>\n",
       "    </tr>\n",
       "    <tr>\n",
       "      <th>50%</th>\n",
       "      <td>1,253.00</td>\n",
       "      <td>443.00</td>\n",
       "      <td>8.90</td>\n",
       "      <td>50.00</td>\n",
       "      <td>16,962.00</td>\n",
       "      <td>30.00</td>\n",
       "      <td>46.00</td>\n",
       "      <td>11.00</td>\n",
       "      <td>4.00</td>\n",
       "      <td>50.00</td>\n",
       "      <td>15,360.00</td>\n",
       "      <td>500.00</td>\n",
       "      <td>550.00</td>\n",
       "      <td>200.00</td>\n",
       "      <td>3.00</td>\n",
       "      <td>3.00</td>\n",
       "      <td>1,563.18</td>\n",
       "    </tr>\n",
       "    <tr>\n",
       "      <th>75%</th>\n",
       "      <td>1,378.25</td>\n",
       "      <td>589.00</td>\n",
       "      <td>9.41</td>\n",
       "      <td>66.00</td>\n",
       "      <td>21,446.00</td>\n",
       "      <td>57.00</td>\n",
       "      <td>62.00</td>\n",
       "      <td>12.00</td>\n",
       "      <td>7.00</td>\n",
       "      <td>1,000.00</td>\n",
       "      <td>30,720.00</td>\n",
       "      <td>3,000.00</td>\n",
       "      <td>1,950.00</td>\n",
       "      <td>200.00</td>\n",
       "      <td>3.00</td>\n",
       "      <td>3.00</td>\n",
       "      <td>1,950.00</td>\n",
       "    </tr>\n",
       "    <tr>\n",
       "      <th>max</th>\n",
       "      <td>1,499.00</td>\n",
       "      <td>1,673.00</td>\n",
       "      <td>18.00</td>\n",
       "      <td>190.00</td>\n",
       "      <td>49,789.00</td>\n",
       "      <td>224.00</td>\n",
       "      <td>75.00</td>\n",
       "      <td>12.00</td>\n",
       "      <td>12.00</td>\n",
       "      <td>1,000.00</td>\n",
       "      <td>30,720.00</td>\n",
       "      <td>3,000.00</td>\n",
       "      <td>1,950.00</td>\n",
       "      <td>200.00</td>\n",
       "      <td>3.00</td>\n",
       "      <td>3.00</td>\n",
       "      <td>6,711.02</td>\n",
       "    </tr>\n",
       "  </tbody>\n",
       "</table>\n",
       "</div>"
      ],
      "text/plain": [
       "       user_id  total_duration  mean_duration  total_calls  total_mb  \\\n",
       "count 3,216.00        3,216.00       3,216.00     3,216.00  3,216.00   \n",
       "mean  1,251.59          450.96           8.76        50.68 17,216.87   \n",
       "std     144.65          242.10           1.48        26.97  7,588.07   \n",
       "min   1,000.00            0.00           0.00         0.00      0.00   \n",
       "25%   1,125.00          282.00           8.35        32.00 12,496.25   \n",
       "50%   1,253.00          443.00           8.90        50.00 16,962.00   \n",
       "75%   1,378.25          589.00           9.41        66.00 21,446.00   \n",
       "max   1,499.00        1,673.00          18.00       190.00 49,789.00   \n",
       "\n",
       "       total_messages      age  churn_month  reg_month  messages_included  \\\n",
       "count        3,216.00 3,216.00       189.00   3,216.00           3,216.00   \n",
       "mean            38.26    46.64        10.57       4.72             341.26   \n",
       "std             36.15    16.58         1.30       2.91             438.09   \n",
       "min              0.00    18.00         8.00       1.00              50.00   \n",
       "25%              9.00    32.00        10.00       2.00              50.00   \n",
       "50%             30.00    46.00        11.00       4.00              50.00   \n",
       "75%             57.00    62.00        12.00       7.00           1,000.00   \n",
       "max            224.00    75.00        12.00      12.00           1,000.00   \n",
       "\n",
       "       mb_per_month_included  minutes_included  rub_monthly_fee  rub_per_gb  \\\n",
       "count               3,216.00          3,216.00         3,216.00    3,216.00   \n",
       "mean               20,069.25          1,266.48           979.23      184.67   \n",
       "std                 7,083.27          1,152.88           645.61       23.06   \n",
       "min                15,360.00            500.00           550.00      150.00   \n",
       "25%                15,360.00            500.00           550.00      150.00   \n",
       "50%                15,360.00            500.00           550.00      200.00   \n",
       "75%                30,720.00          3,000.00         1,950.00      200.00   \n",
       "max                30,720.00          3,000.00         1,950.00      200.00   \n",
       "\n",
       "       rub_per_message  rub_per_minute  month_revenue  \n",
       "count         3,216.00        3,216.00       3,216.00  \n",
       "mean              2.39            2.39       1,486.71  \n",
       "std               0.92            0.92         783.94  \n",
       "min               1.00            1.00         550.00  \n",
       "25%               1.00            1.00         694.00  \n",
       "50%               3.00            3.00       1,563.18  \n",
       "75%               3.00            3.00       1,950.00  \n",
       "max               3.00            3.00       6,711.02  "
      ]
     },
     "execution_count": 47,
     "metadata": {},
     "output_type": "execute_result"
    }
   ],
   "source": [
    "df_total.describe()"
   ]
  },
  {
   "cell_type": "markdown",
   "metadata": {},
   "source": [
    "## Анализ данных"
   ]
  },
  {
   "cell_type": "code",
   "execution_count": 48,
   "metadata": {},
   "outputs": [
    {
     "name": "stdout",
     "output_type": "stream",
     "text": [
      "<class 'pandas.core.frame.DataFrame'>\n",
      "Int64Index: 3216 entries, 0 to 3215\n",
      "Data columns (total 23 columns):\n",
      " #   Column                 Non-Null Count  Dtype         \n",
      "---  ------                 --------------  -----         \n",
      " 0   user_id                3216 non-null   int64         \n",
      " 1   total_duration         3216 non-null   float64       \n",
      " 2   mean_duration          3216 non-null   float64       \n",
      " 3   total_calls            3216 non-null   float64       \n",
      " 4   total_mb               3216 non-null   float64       \n",
      " 5   total_messages         3216 non-null   float64       \n",
      " 6   age                    3216 non-null   int64         \n",
      " 7   churn_date             189 non-null    datetime64[ns]\n",
      " 8   city                   3216 non-null   object        \n",
      " 9   first_name             3216 non-null   object        \n",
      " 10  last_name              3216 non-null   object        \n",
      " 11  reg_date               3216 non-null   datetime64[ns]\n",
      " 12  tariff_name            3216 non-null   object        \n",
      " 13  churn_month            189 non-null    float64       \n",
      " 14  reg_month              3216 non-null   int64         \n",
      " 15  messages_included      3216 non-null   int64         \n",
      " 16  mb_per_month_included  3216 non-null   int64         \n",
      " 17  minutes_included       3216 non-null   int64         \n",
      " 18  rub_monthly_fee        3216 non-null   int64         \n",
      " 19  rub_per_gb             3216 non-null   int64         \n",
      " 20  rub_per_message        3216 non-null   int64         \n",
      " 21  rub_per_minute         3216 non-null   int64         \n",
      " 22  month_revenue          3216 non-null   float64       \n",
      "dtypes: datetime64[ns](2), float64(7), int64(10), object(4)\n",
      "memory usage: 603.0+ KB\n"
     ]
    }
   ],
   "source": [
    "df_total.info()"
   ]
  },
  {
   "cell_type": "code",
   "execution_count": 49,
   "metadata": {},
   "outputs": [
    {
     "data": {
      "image/png": "[encoded data removed]",
      "text/plain": [
       "<Figure size 432x288 with 1 Axes>"
      ]
     },
     "metadata": {
      "needs_background": "light"
     },
     "output_type": "display_data"
    }
   ],
   "source": [
    "df_users['tariff'].hist()\n",
    "plt.show()"
   ]
  },
  {
   "cell_type": "markdown",
   "metadata": {},
   "source": [
    "Мы видим, что тарифом Смарт пользуется больше людей, чем тарифом Ультра."
   ]
  },
  {
   "cell_type": "markdown",
   "metadata": {},
   "source": [
    "Построим описательные статистики для потребителей разных тарифов (суммарная продолжительность разговоров, общее количество сообщение и суммарный трафик за месяц)."
   ]
  },
  {
   "cell_type": "code",
   "execution_count": 50,
   "metadata": {},
   "outputs": [],
   "source": [
    "df_ultra = df_total[df_total['tariff_name']=='ultra']"
   ]
  },
  {
   "cell_type": "code",
   "execution_count": 51,
   "metadata": {},
   "outputs": [],
   "source": [
    "df_smart = df_total[df_total['tariff_name']=='smart']"
   ]
  },
  {
   "cell_type": "code",
   "execution_count": 52,
   "metadata": {},
   "outputs": [],
   "source": [
    "def descriptive_stat(data):\n",
    "    columns = ['total_duration', 'total_messages', 'total_mb']\n",
    "    for column in columns:\n",
    "        print(column)\n",
    "        print('Среднее значение: {:.0f}'. format(data[column].mean()))\n",
    "        print('Дисперсия: {:.0f}'. format(np.var(data[column], ddof = 1)))\n",
    "        print('Стандартное отклонение: {:.0f}'. format(np.std(data[column], ddof = 1)))"
   ]
  },
  {
   "cell_type": "code",
   "execution_count": 53,
   "metadata": {},
   "outputs": [
    {
     "name": "stdout",
     "output_type": "stream",
     "text": [
      "total_duration\n",
      "Среднее значение: 526\n",
      "Дисперсия: 101052\n",
      "Стандартное отклонение: 318\n",
      "total_messages\n",
      "Среднее значение: 49\n",
      "Дисперсия: 2285\n",
      "Стандартное отклонение: 48\n",
      "total_mb\n",
      "Среднее значение: 19467\n",
      "Дисперсия: 102217264\n",
      "Стандартное отклонение: 10110\n"
     ]
    }
   ],
   "source": [
    "descriptive_stat(df_ultra)"
   ]
  },
  {
   "cell_type": "code",
   "execution_count": 54,
   "metadata": {},
   "outputs": [
    {
     "name": "stdout",
     "output_type": "stream",
     "text": [
      "total_duration\n",
      "Среднее значение: 418\n",
      "Дисперсия: 36281\n",
      "Стандартное отклонение: 190\n",
      "total_messages\n",
      "Среднее значение: 33\n",
      "Дисперсия: 797\n",
      "Стандартное отклонение: 28\n",
      "total_mb\n",
      "Среднее значение: 16222\n",
      "Дисперсия: 34648523\n",
      "Стандартное отклонение: 5886\n"
     ]
    }
   ],
   "source": [
    "descriptive_stat(df_smart)"
   ]
  },
  {
   "cell_type": "markdown",
   "metadata": {},
   "source": [
    "Видим, что в среднем пользователь тарифа Ультра разговаривает 526 минут в месяц (ст. отклонение 318), посылает 49 смс (ст. отклонение 48) и его трафик составляет 19467 Мб (ст. отклонение 10110). При этом пользователь тарифа Смарт в среднем разговаривает 418 минут в месяц (ст. отклонение 190), посылает 33 смс (ст. отклонение 28) и его трафик составляет 16222 Мб (ст. отклонение 5886). Хочется сделать вывод о том, что пользователи тарифа Ультра активнее пользуются мобильной связью, но для того чтобы сделать такой вывод нужно проверять статистическую значимость различий. "
   ]
  },
  {
   "cell_type": "markdown",
   "metadata": {},
   "source": [
    "Построим графики"
   ]
  },
  {
   "cell_type": "code",
   "execution_count": 55,
   "metadata": {},
   "outputs": [
    {
     "data": {
      "image/png": "[encoded data removed]",
      "text/plain": [
       "<Figure size 1080x720 with 9 Axes>"
      ]
     },
     "metadata": {
      "needs_background": "light"
     },
     "output_type": "display_data"
    }
   ],
   "source": [
    "dfs = [df_total, df_smart, df_ultra]\n",
    "columns = ['total_duration', 'total_mb', 'total_messages']\n",
    "ranges = [(0, 1700), (0, 50000), (1, 230)]\n",
    "names = [['Кол-во минут, общие данные', 'Кол-во минут, тариф Смарт', 'Кол-во минут, тариф Ультра'],\n",
    "         ['Расход Мб, общие данные', 'Расход Мб, тариф Смарт', 'Расход Мб, тариф Ультра'],\n",
    "         ['Кол-во СМС, общие данные', 'Кол-во СМС, тариф Смарт', 'Кол-во СМС, тариф Ультра']\n",
    "        ]\n",
    "names_x = ['Кол-во минут за один звонок, мин.', 'Расход Мб за одну сессию', 'Кол-во СМС в год, шт.']\n",
    "names_y = ['Кол-во пользователей', 'Кол-во пользователей', 'Кол-во пользователей']\n",
    "bins = [500, 500, 500]\n",
    " \n",
    "f, axs = plt.subplots(3, 3, figsize=(15, 10))\n",
    " \n",
    "for j, a in enumerate(range(len(dfs))):\n",
    "    for i in range(len(columns)):\n",
    "        axs[i][j].hist(dfs[a][columns[i]], range = ranges[i], bins=bins[i], label=columns[i])\n",
    "        #axs[i][j].set_title(names[i][j])\n",
    "        axs[i][j].set_xlabel(names_x[i])\n",
    "        axs[i][j].set_ylabel(names_y[i])\n",
    "        axs[i][j].grid()\n",
    "        axs[i][j].legend()\n",
    "\n",
    "plt.show()\n"
   ]
  },
  {
   "cell_type": "code",
   "execution_count": 56,
   "metadata": {},
   "outputs": [],
   "source": [
    "def plot_stat(dataframe, j):\n",
    "    f, axs = plt.subplots(3, 1, figsize=(8, 20))\n",
    "    \n",
    "    for i in range(len(columns)):\n",
    "        axs[i].hist(dfs[a][columns[i]], range = ranges[i], bins=bins[i], label=columns[i], color = color[i])\n",
    "        axs[i].set_title(names[i][j])\n",
    "        axs[i].set_xlabel(names_x[i])\n",
    "        axs[i].set_ylabel(names_y[i])\n",
    "        axs[i].grid()\n",
    "    plt.show()"
   ]
  },
  {
   "cell_type": "code",
   "execution_count": 57,
   "metadata": {},
   "outputs": [
    {
     "data": {
      "image/png": "[encoded data removed]",
      "text/plain": [
       "<Figure size 576x1440 with 3 Axes>"
      ]
     },
     "metadata": {
      "needs_background": "light"
     },
     "output_type": "display_data"
    }
   ],
   "source": [
    "bins = [50, 50, 50]\n",
    "color = ['blue', 'green', 'orange']\n",
    "plot_stat(df_total, 0)"
   ]
  },
  {
   "cell_type": "markdown",
   "metadata": {},
   "source": [
    "В первом столбце расположены графики для всех пользователей, во второй -- для пользователей тарифа Смарт, в третьей -- для пользователей тарифа Ультра.  \n",
    "\n",
    "Видим, что пользователей тарифа Смарт больше, их потребление носит более схожий характер (меньше дисперсия).\n",
    "\n",
    "Видим, что количество смс кучкуется около некоторых значений во всех подвыборках, не могу придумать разумного объяснения этому факту."
   ]
  },
  {
   "cell_type": "markdown",
   "metadata": {},
   "source": [
    "## Проверка гипотез"
   ]
  },
  {
   "cell_type": "markdown",
   "metadata": {},
   "source": [
    "Протестируем нулевую гипотезу о том, что средняя месячная выручка, полученная от пользователей тарифа Ультра, равна средней месячной выручке, полученной от пользователей тарифа Смарт. Альтернативной гипотезой в данном случае будет утверждение о том, что средняя выручка, полученная от пользователей тарифа Ультра, не равна средней выручке, полученной от пользователей тарифа Смарт."
   ]
  },
  {
   "cell_type": "code",
   "execution_count": 58,
   "metadata": {},
   "outputs": [
    {
     "data": {
      "text/plain": [
       "2060.417871688007"
      ]
     },
     "execution_count": 58,
     "metadata": {},
     "output_type": "execute_result"
    }
   ],
   "source": [
    "df_ultra['month_revenue'].mean()"
   ]
  },
  {
   "cell_type": "code",
   "execution_count": 59,
   "metadata": {},
   "outputs": [
    {
     "data": {
      "text/plain": [
       "1233.0430318105382"
      ]
     },
     "execution_count": 59,
     "metadata": {},
     "output_type": "execute_result"
    }
   ],
   "source": [
    "df_smart['month_revenue'].mean()"
   ]
  },
  {
   "cell_type": "markdown",
   "metadata": {},
   "source": [
    "Применим тест Барлетта, чтобы проверить, можем ли мы в последующем тесте Стьюдента предполагать, что у наших подвыборок одинаковые дисперсии."
   ]
  },
  {
   "cell_type": "code",
   "execution_count": 60,
   "metadata": {},
   "outputs": [
    {
     "name": "stdout",
     "output_type": "stream",
     "text": [
      "p-значение: 1.1273347694383079e-146\n",
      "Отвергаем нулевую гипотезу\n"
     ]
    }
   ],
   "source": [
    "alpha = .05\n",
    "from scipy.stats import bartlett\n",
    "a = df_ultra['month_revenue']\n",
    "b = df_smart['month_revenue']\n",
    "stat, p = bartlett(a, b)\n",
    "print('p-значение:', p)\n",
    "\n",
    "if (p < alpha):\n",
    "    print(\"Отвергаем нулевую гипотезу\")\n",
    "else:\n",
    "    print(\"Не получилось отвергнуть нулевую гипотезу\") "
   ]
  },
  {
   "cell_type": "markdown",
   "metadata": {},
   "source": [
    "Мы отвергаем гипотезу о равенстве дисперсий и дальше в тесте Стьюдента должны выбрать equal_var=False."
   ]
  },
  {
   "cell_type": "code",
   "execution_count": 61,
   "metadata": {},
   "outputs": [
    {
     "name": "stdout",
     "output_type": "stream",
     "text": [
      "p-значение: 4.4900401982172765e-199\n",
      "Отвергаем нулевую гипотезу\n"
     ]
    }
   ],
   "source": [
    "alpha = .01\n",
    "results = st.ttest_ind(\n",
    "    df_ultra['month_revenue'], \n",
    "    df_total['month_revenue'], equal_var=False)\n",
    "\n",
    "print('p-значение:', results.pvalue)\n",
    "\n",
    "if (results.pvalue < alpha):\n",
    "    print(\"Отвергаем нулевую гипотезу\")\n",
    "else:\n",
    "    print(\"Не получилось отвергнуть нулевую гипотезу\") "
   ]
  },
  {
   "cell_type": "markdown",
   "metadata": {},
   "source": [
    "Мы получили очень маленькое значение p-value и можем отвергнуть нулевую гипотезу с 99%-м уровнем значимости, т.е. различие в средних значениях статистически значимо: Ультра приносит больше выручки в месяц в расчете на одного пользователя."
   ]
  },
  {
   "cell_type": "markdown",
   "metadata": {},
   "source": [
    "Теперь протестируем нулевую гипотезу о том, что средняя выручка, полученная от пользователей из Москвы, равна средней выручке, полученной от пользователей из других регионов. Альтернативной гипотезой в данном случае будет утверждение о том, что средняя выручка, полученная от пользователей из Москвы, не равна средней выручке, полученной от пользователей из других регионов. "
   ]
  },
  {
   "cell_type": "code",
   "execution_count": 62,
   "metadata": {},
   "outputs": [
    {
     "data": {
      "text/plain": [
       "array(['Краснодар', 'Москва', 'Новокузнецк', 'Иваново', 'Омск', 'Уфа',\n",
       "       'Томск', 'Санкт-Петербург', 'Тверь', 'Ярославль', 'Тюмень',\n",
       "       'Ростов-на-Дону', 'Калуга', 'Тула', 'Волгоград', 'Саранск',\n",
       "       'Иркутск', 'Череповец', 'Новосибирск', 'Брянск', 'Тольятти',\n",
       "       'Нижний Тагил', 'Воронеж', 'Махачкала', 'Пермь', 'Сургут', 'Пенза',\n",
       "       'Мурманск', 'Набережные Челны', 'Самара', 'Нижний Новгород',\n",
       "       'Кемерово', 'Кострома', 'Оренбург', 'Магнитогорск', 'Астрахань',\n",
       "       'Нижневартовск', 'Челябинск', 'Курган', 'Красноярск',\n",
       "       'Владивосток', 'Смоленск', 'Владимир', 'Казань', 'Саратов',\n",
       "       'Севастополь', 'Рязань', 'Екатеринбург', 'Стерлитамак',\n",
       "       'Ульяновск', 'Балашиха', 'Барнаул', 'Киров', 'Сочи', 'Вологда',\n",
       "       'Чебоксары', 'Волжский', 'Чита', 'Петрозаводск', 'Хабаровск',\n",
       "       'Ставрополь', 'Улан-Удэ', 'Курск', 'Якутск', 'Химки',\n",
       "       'Владикавказ', 'Ижевск', 'Орёл', 'Белгород', 'Архангельск',\n",
       "       'Липецк', 'Тамбов', 'Калининград', 'Новороссийск', 'Грозный',\n",
       "       'Подольск'], dtype=object)"
      ]
     },
     "execution_count": 62,
     "metadata": {},
     "output_type": "execute_result"
    }
   ],
   "source": [
    "df_total['city'].unique()"
   ]
  },
  {
   "cell_type": "code",
   "execution_count": 63,
   "metadata": {},
   "outputs": [],
   "source": [
    "df_moscow = df_total[df_total['city']=='Москва']"
   ]
  },
  {
   "cell_type": "code",
   "execution_count": 64,
   "metadata": {},
   "outputs": [],
   "source": [
    "df_regions = df_total[df_total['city']!='Москва']"
   ]
  },
  {
   "cell_type": "code",
   "execution_count": 65,
   "metadata": {},
   "outputs": [
    {
     "data": {
      "text/plain": [
       "1507.276761968085"
      ]
     },
     "execution_count": 65,
     "metadata": {},
     "output_type": "execute_result"
    }
   ],
   "source": [
    "df_moscow['month_revenue'].mean()"
   ]
  },
  {
   "cell_type": "code",
   "execution_count": 66,
   "metadata": {},
   "outputs": [
    {
     "data": {
      "text/plain": [
       "1481.8855588711613"
      ]
     },
     "execution_count": 66,
     "metadata": {},
     "output_type": "execute_result"
    }
   ],
   "source": [
    "df_regions['month_revenue'].mean()"
   ]
  },
  {
   "cell_type": "markdown",
   "metadata": {},
   "source": [
    "Применим тест Барлетта, чтобы проверить, можем ли мы в последующем тесте Стьюдента предполагать, что у наших подвыборок одинаковые дисперсии."
   ]
  },
  {
   "cell_type": "code",
   "execution_count": 67,
   "metadata": {},
   "outputs": [
    {
     "name": "stdout",
     "output_type": "stream",
     "text": [
      "p-значение: 0.028420145162210274\n",
      "Отвергаем нулевую гипотезу\n"
     ]
    }
   ],
   "source": [
    "alpha = .05\n",
    "\n",
    "c = df_moscow['month_revenue']\n",
    "d = df_regions['month_revenue']\n",
    "stat, p = bartlett(c, d)\n",
    "print('p-значение:', p)\n",
    "\n",
    "if (p < alpha):\n",
    "    print(\"Отвергаем нулевую гипотезу\")\n",
    "else:\n",
    "    print(\"Не получилось отвергнуть нулевую гипотезу\") "
   ]
  },
  {
   "cell_type": "markdown",
   "metadata": {},
   "source": [
    "Мы отвергаем гипотезу о равенстве дисперсий (на 95%-м уровне, а на 99%-м уровне не смогли бы отвергнуть) и дальше в тесте Стьюдента должны выбрать equal_var=False."
   ]
  },
  {
   "cell_type": "code",
   "execution_count": 68,
   "metadata": {},
   "outputs": [
    {
     "name": "stdout",
     "output_type": "stream",
     "text": [
      "p-значение: 0.4517561756356935\n",
      "Не получилось отвергнуть нулевую гипотезу\n"
     ]
    }
   ],
   "source": [
    "alpha = .1\n",
    "results = st.ttest_ind(\n",
    "    df_moscow['month_revenue'], \n",
    "    df_regions['month_revenue'], equal_var=False)\n",
    "\n",
    "print('p-значение:', results.pvalue)\n",
    "\n",
    "if (results.pvalue < alpha):\n",
    "    print(\"Отвергаем нулевую гипотезу\")\n",
    "else:\n",
    "    print(\"Не получилось отвергнуть нулевую гипотезу\") "
   ]
  },
  {
   "cell_type": "markdown",
   "metadata": {},
   "source": [
    "Мы получили большое значение p-value и не можем отвергнуть нулевую гипотезу даже с 90%-м уровнем значимости."
   ]
  },
  {
   "cell_type": "markdown",
   "metadata": {},
   "source": [
    "## Выводы"
   ]
  },
  {
   "cell_type": "markdown",
   "metadata": {},
   "source": [
    "Мы изучили общую информацию о 500 пользователях двух разных тарифов мобильной связи: Смарт и Ультра. \n",
    "Обнаружили, что пользователей тарифа Смарт более чем в 2 раза больше, чем пользователей тарифа Ультра. \n",
    "\n",
    "Мы подготовили данные к анализу: округлили количество минут и объем трафика вверх (как это делает мобильная компания), удалили строки с сессиями нулевой длины.\n",
    "\n",
    "Затем агрегировали данные, чтобы видеть трафик каждого пользователя по всем категориям (звонки, интернет и сообщения) и объедили данные в единую базу данных.\n",
    "\n",
    "Мы предположили, что пропущенные данные соответствуют отсутствующей деятельности и заменили такие ячейки на нули.\n",
    "Мы построили описательные статистики и выяснили, что в среднем пользователь тарифа Ультра разговаривает 526 минут в месяц (ст. отклонение 318), посылает 49 смс (ст. отклонение 48) и его трафик составляет 19467 Мб (ст. отклонение 10110). При этом пользователь тарифа Смарт в среднем разговаривает 418 минут в месяц (ст. отклонение 190), посылает 33 смс (ст. отклонение 28) и его трафик составляет 16222 Мб (ст. отклонение 5886). Хочется сделать вывод о том, что пользователи тарифа Ультра активнее пользуются мобильной связью, но для того чтобы сделать такой вывод нужно проверять статистическую значимость различий.  \n",
    "\n",
    "Кроме этого мы построили гистограммы и увидели, что потребление пользователей тарифа Смарт имеет более схожий характер (меньше дисперсия). Количество смс кучкуется около некоторых значений во всех подвыборках, не могу придумать разумного объяснения этому факту.\n",
    "\n",
    "Затем мы определили суммарную выручку, которую мобильная компания получает от каждого абонента в месяц.\n",
    "Мы протестировали две гипотезы. \n",
    "\n",
    "1. О том, что средняя месячная выручка, полученная от пользователей тарифа Ультра, равна средней месячной выручке, полученной от пользователей тарифа Смарт.\n",
    "2. О том, что средняя выручка, полученная от пользователей из Москвы, равна средней выручке, полученной от пользователей из других регионов.\n",
    "\n",
    "Мы применили метод тестирования совпадения средних значений у двух разных множеств и выяснили, что в первом случае нулевая гипотеза может быть отвергнута (с 99%-м уровнем значимости), а во втором случае -- нет (с 90%-м уровнем значимости). \n",
    "\n",
    "Таким образом тариф Ультра приносит больше выручки в месяц в расчете на одного пользователя (2060 рублей), чем тариф Смарт (1233 рублей) и это различие в средних значениях статистически значимо.\n",
    "\n",
    "Мы также выяснили, что московские пользователи не отличаются от пользователей из других регионов в смысле средней месячной выручки."
   ]
  }
 ],
 "metadata": {
  "kernelspec": {
   "display_name": "Python 3",
   "language": "python",
   "name": "python3"
  },
  "language_info": {
   "codemirror_mode": {
    "name": "ipython",
    "version": 3
   },
   "file_extension": ".py",
   "mimetype": "text/x-python",
   "name": "python",
   "nbconvert_exporter": "python",
   "pygments_lexer": "ipython3",
   "version": "3.8.5"
  },
  "toc": {
   "base_numbering": 1,
   "nav_menu": {},
   "number_sections": true,
   "sideBar": true,
   "skip_h1_title": true,
   "title_cell": "Table of Contents",
   "title_sidebar": "Оглавление",
   "toc_cell": false,
   "toc_position": {},
   "toc_section_display": true,
   "toc_window_display": true
  }
 },
 "nbformat": 4,
 "nbformat_minor": 2
}
